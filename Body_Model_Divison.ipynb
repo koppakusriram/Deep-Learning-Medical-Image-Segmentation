{
 "cells": [
  {
   "cell_type": "code",
   "execution_count": 1,
   "metadata": {},
   "outputs": [],
   "source": [
    "\n",
    "import time\n",
    "from pathlib import Path\n",
    "\n",
    "import h5py\n",
    "import numpy as np\n",
    "from tqdm import tqdm\n",
    "\n",
    "\n",
    "import torch\n",
    "import torch.nn as nn\n",
    "import torch.nn.functional as F\n",
    "from torch.utils.data import DataLoader, TensorDataset\n",
    "from torch.utils.data.dataset import Dataset\n",
    "\n",
    "import socket\n",
    "import select\n",
    "from loguru import logger\n",
    "\n",
    "from model import Block_encoder_bottleneck, Block_decoder, dict_args, init_weights, FCT_Body"
   ]
  },
  {
   "cell_type": "code",
   "execution_count": 2,
   "metadata": {},
   "outputs": [],
   "source": [
    "# device = torch.device(\"cuda:0\")\n",
    "device = torch.device(\"cpu\")"
   ]
  },
  {
   "cell_type": "code",
   "execution_count": 3,
   "metadata": {},
   "outputs": [
    {
     "data": {
      "text/plain": [
       "FCT_Body(\n",
       "  (block_5): Block_encoder_bottleneck(\n",
       "    (layernorm): LayerNorm((64,), eps=1e-05, elementwise_affine=True)\n",
       "    (conv1): Conv2d(64, 128, kernel_size=(3, 3), stride=(1, 1), padding=same)\n",
       "    (conv2): Conv2d(128, 128, kernel_size=(3, 3), stride=(1, 1), padding=same)\n",
       "    (trans): Transformer(\n",
       "      (attention_output): Attention(\n",
       "        (conv_q): Conv2d(128, 128, kernel_size=(3, 3), stride=(1, 1), padding=same, groups=128)\n",
       "        (layernorm_q): LayerNorm((128,), eps=1e-05, elementwise_affine=True)\n",
       "        (conv_k): Conv2d(128, 128, kernel_size=(3, 3), stride=(1, 1), padding=(1, 1), groups=128)\n",
       "        (layernorm_k): LayerNorm((128,), eps=1e-05, elementwise_affine=True)\n",
       "        (conv_v): Conv2d(128, 128, kernel_size=(3, 3), stride=(1, 1), padding=(1, 1), groups=128)\n",
       "        (layernorm_v): LayerNorm((128,), eps=1e-05, elementwise_affine=True)\n",
       "        (attention): MultiheadAttention(\n",
       "          (out_proj): NonDynamicallyQuantizableLinear(in_features=128, out_features=128, bias=True)\n",
       "        )\n",
       "      )\n",
       "      (conv1): Conv2d(128, 128, kernel_size=(3, 3), stride=(1, 1), padding=same)\n",
       "      (layernorm): LayerNorm((128,), eps=1e-05, elementwise_affine=True)\n",
       "      (wide_focus): Wide_Focus(\n",
       "        (conv1): Conv2d(128, 128, kernel_size=(3, 3), stride=(1, 1), padding=same)\n",
       "        (conv2): Conv2d(128, 128, kernel_size=(3, 3), stride=(1, 1), padding=same, dilation=(2, 2))\n",
       "        (conv3): Conv2d(128, 128, kernel_size=(3, 3), stride=(1, 1), padding=same, dilation=(3, 3))\n",
       "        (conv4): Conv2d(128, 128, kernel_size=(3, 3), stride=(1, 1), padding=same)\n",
       "      )\n",
       "    )\n",
       "  )\n",
       "  (block_6): Block_decoder(\n",
       "    (layernorm): LayerNorm((128,), eps=1e-05, elementwise_affine=True)\n",
       "    (upsample): Upsample(scale_factor=2.0, mode='nearest')\n",
       "    (conv1): Conv2d(128, 64, kernel_size=(3, 3), stride=(1, 1), padding=same)\n",
       "    (conv2): Conv2d(128, 64, kernel_size=(3, 3), stride=(1, 1), padding=same)\n",
       "    (conv3): Conv2d(64, 64, kernel_size=(3, 3), stride=(1, 1), padding=same)\n",
       "    (trans): Transformer(\n",
       "      (attention_output): Attention(\n",
       "        (conv_q): Conv2d(64, 64, kernel_size=(3, 3), stride=(1, 1), padding=same, groups=64)\n",
       "        (layernorm_q): LayerNorm((64,), eps=1e-05, elementwise_affine=True)\n",
       "        (conv_k): Conv2d(64, 64, kernel_size=(3, 3), stride=(1, 1), padding=(1, 1), groups=64)\n",
       "        (layernorm_k): LayerNorm((64,), eps=1e-05, elementwise_affine=True)\n",
       "        (conv_v): Conv2d(64, 64, kernel_size=(3, 3), stride=(1, 1), padding=(1, 1), groups=64)\n",
       "        (layernorm_v): LayerNorm((64,), eps=1e-05, elementwise_affine=True)\n",
       "        (attention): MultiheadAttention(\n",
       "          (out_proj): NonDynamicallyQuantizableLinear(in_features=64, out_features=64, bias=True)\n",
       "        )\n",
       "      )\n",
       "      (conv1): Conv2d(64, 64, kernel_size=(3, 3), stride=(1, 1), padding=same)\n",
       "      (layernorm): LayerNorm((64,), eps=1e-05, elementwise_affine=True)\n",
       "      (wide_focus): Wide_Focus(\n",
       "        (conv1): Conv2d(64, 64, kernel_size=(3, 3), stride=(1, 1), padding=same)\n",
       "        (conv2): Conv2d(64, 64, kernel_size=(3, 3), stride=(1, 1), padding=same, dilation=(2, 2))\n",
       "        (conv3): Conv2d(64, 64, kernel_size=(3, 3), stride=(1, 1), padding=same, dilation=(3, 3))\n",
       "        (conv4): Conv2d(64, 64, kernel_size=(3, 3), stride=(1, 1), padding=same)\n",
       "      )\n",
       "    )\n",
       "  )\n",
       "  (block_7): Block_decoder(\n",
       "    (layernorm): LayerNorm((64,), eps=1e-05, elementwise_affine=True)\n",
       "    (upsample): Upsample(scale_factor=2.0, mode='nearest')\n",
       "    (conv1): Conv2d(64, 32, kernel_size=(3, 3), stride=(1, 1), padding=same)\n",
       "    (conv2): Conv2d(64, 32, kernel_size=(3, 3), stride=(1, 1), padding=same)\n",
       "    (conv3): Conv2d(32, 32, kernel_size=(3, 3), stride=(1, 1), padding=same)\n",
       "    (trans): Transformer(\n",
       "      (attention_output): Attention(\n",
       "        (conv_q): Conv2d(32, 32, kernel_size=(3, 3), stride=(1, 1), padding=same, groups=32)\n",
       "        (layernorm_q): LayerNorm((32,), eps=1e-05, elementwise_affine=True)\n",
       "        (conv_k): Conv2d(32, 32, kernel_size=(3, 3), stride=(1, 1), padding=(1, 1), groups=32)\n",
       "        (layernorm_k): LayerNorm((32,), eps=1e-05, elementwise_affine=True)\n",
       "        (conv_v): Conv2d(32, 32, kernel_size=(3, 3), stride=(1, 1), padding=(1, 1), groups=32)\n",
       "        (layernorm_v): LayerNorm((32,), eps=1e-05, elementwise_affine=True)\n",
       "        (attention): MultiheadAttention(\n",
       "          (out_proj): NonDynamicallyQuantizableLinear(in_features=32, out_features=32, bias=True)\n",
       "        )\n",
       "      )\n",
       "      (conv1): Conv2d(32, 32, kernel_size=(3, 3), stride=(1, 1), padding=same)\n",
       "      (layernorm): LayerNorm((32,), eps=1e-05, elementwise_affine=True)\n",
       "      (wide_focus): Wide_Focus(\n",
       "        (conv1): Conv2d(32, 32, kernel_size=(3, 3), stride=(1, 1), padding=same)\n",
       "        (conv2): Conv2d(32, 32, kernel_size=(3, 3), stride=(1, 1), padding=same, dilation=(2, 2))\n",
       "        (conv3): Conv2d(32, 32, kernel_size=(3, 3), stride=(1, 1), padding=same, dilation=(3, 3))\n",
       "        (conv4): Conv2d(32, 32, kernel_size=(3, 3), stride=(1, 1), padding=same)\n",
       "      )\n",
       "    )\n",
       "  )\n",
       "  (block_8): Block_decoder(\n",
       "    (layernorm): LayerNorm((32,), eps=1e-05, elementwise_affine=True)\n",
       "    (upsample): Upsample(scale_factor=2.0, mode='nearest')\n",
       "    (conv1): Conv2d(32, 16, kernel_size=(3, 3), stride=(1, 1), padding=same)\n",
       "    (conv2): Conv2d(32, 16, kernel_size=(3, 3), stride=(1, 1), padding=same)\n",
       "    (conv3): Conv2d(16, 16, kernel_size=(3, 3), stride=(1, 1), padding=same)\n",
       "    (trans): Transformer(\n",
       "      (attention_output): Attention(\n",
       "        (conv_q): Conv2d(16, 16, kernel_size=(3, 3), stride=(1, 1), padding=same, groups=16)\n",
       "        (layernorm_q): LayerNorm((16,), eps=1e-05, elementwise_affine=True)\n",
       "        (conv_k): Conv2d(16, 16, kernel_size=(3, 3), stride=(1, 1), padding=(1, 1), groups=16)\n",
       "        (layernorm_k): LayerNorm((16,), eps=1e-05, elementwise_affine=True)\n",
       "        (conv_v): Conv2d(16, 16, kernel_size=(3, 3), stride=(1, 1), padding=(1, 1), groups=16)\n",
       "        (layernorm_v): LayerNorm((16,), eps=1e-05, elementwise_affine=True)\n",
       "        (attention): MultiheadAttention(\n",
       "          (out_proj): NonDynamicallyQuantizableLinear(in_features=16, out_features=16, bias=True)\n",
       "        )\n",
       "      )\n",
       "      (conv1): Conv2d(16, 16, kernel_size=(3, 3), stride=(1, 1), padding=same)\n",
       "      (layernorm): LayerNorm((16,), eps=1e-05, elementwise_affine=True)\n",
       "      (wide_focus): Wide_Focus(\n",
       "        (conv1): Conv2d(16, 16, kernel_size=(3, 3), stride=(1, 1), padding=same)\n",
       "        (conv2): Conv2d(16, 16, kernel_size=(3, 3), stride=(1, 1), padding=same, dilation=(2, 2))\n",
       "        (conv3): Conv2d(16, 16, kernel_size=(3, 3), stride=(1, 1), padding=same, dilation=(3, 3))\n",
       "        (conv4): Conv2d(16, 16, kernel_size=(3, 3), stride=(1, 1), padding=same)\n",
       "      )\n",
       "    )\n",
       "  )\n",
       "  (block_9): Block_decoder(\n",
       "    (layernorm): LayerNorm((16,), eps=1e-05, elementwise_affine=True)\n",
       "    (upsample): Upsample(scale_factor=2.0, mode='nearest')\n",
       "    (conv1): Conv2d(16, 8, kernel_size=(3, 3), stride=(1, 1), padding=same)\n",
       "    (conv2): Conv2d(16, 8, kernel_size=(3, 3), stride=(1, 1), padding=same)\n",
       "    (conv3): Conv2d(8, 8, kernel_size=(3, 3), stride=(1, 1), padding=same)\n",
       "    (trans): Transformer(\n",
       "      (attention_output): Attention(\n",
       "        (conv_q): Conv2d(8, 8, kernel_size=(3, 3), stride=(1, 1), padding=same, groups=8)\n",
       "        (layernorm_q): LayerNorm((8,), eps=1e-05, elementwise_affine=True)\n",
       "        (conv_k): Conv2d(8, 8, kernel_size=(3, 3), stride=(1, 1), padding=(1, 1), groups=8)\n",
       "        (layernorm_k): LayerNorm((8,), eps=1e-05, elementwise_affine=True)\n",
       "        (conv_v): Conv2d(8, 8, kernel_size=(3, 3), stride=(1, 1), padding=(1, 1), groups=8)\n",
       "        (layernorm_v): LayerNorm((8,), eps=1e-05, elementwise_affine=True)\n",
       "        (attention): MultiheadAttention(\n",
       "          (out_proj): NonDynamicallyQuantizableLinear(in_features=8, out_features=8, bias=True)\n",
       "        )\n",
       "      )\n",
       "      (conv1): Conv2d(8, 8, kernel_size=(3, 3), stride=(1, 1), padding=same)\n",
       "      (layernorm): LayerNorm((8,), eps=1e-05, elementwise_affine=True)\n",
       "      (wide_focus): Wide_Focus(\n",
       "        (conv1): Conv2d(8, 8, kernel_size=(3, 3), stride=(1, 1), padding=same)\n",
       "        (conv2): Conv2d(8, 8, kernel_size=(3, 3), stride=(1, 1), padding=same, dilation=(2, 2))\n",
       "        (conv3): Conv2d(8, 8, kernel_size=(3, 3), stride=(1, 1), padding=same, dilation=(3, 3))\n",
       "        (conv4): Conv2d(8, 8, kernel_size=(3, 3), stride=(1, 1), padding=same)\n",
       "      )\n",
       "    )\n",
       "  )\n",
       ")"
      ]
     },
     "execution_count": 3,
     "metadata": {},
     "output_type": "execute_result"
    }
   ],
   "source": [
    "# =======================================================================\n",
    "#                                BODY\n",
    "# =======================================================================\n",
    "\n",
    "model_body = FCT_Body()\n",
    "model_body.apply(init_weights)\n",
    "\n",
    "# optimizer_body = torch.optim.AdamW(model_body.parameters(), lr=dict_args['lr'],weight_decay=dict_args['decay'])\n",
    "\n",
    "# scheduler_body = torch.optim.lr_scheduler.ReduceLROnPlateau(\n",
    "#             optimizer_body,\n",
    "#             mode='min',\n",
    "#             factor=dict_args['lr_factor'],\n",
    "#             verbose=True,\n",
    "#             threshold=1e-6,\n",
    "#             patience=10,\n",
    "#             min_lr=dict_args['min_lr'])\n",
    "\n",
    "model_body.to(device)"
   ]
  },
  {
   "cell_type": "code",
   "execution_count": 4,
   "metadata": {},
   "outputs": [],
   "source": [
    "def send_socket_info(port=6161, message_data=None):\n",
    "    import socket\n",
    "    with socket.socket(socket.AF_INET, socket.SOCK_STREAM) as s:\n",
    "        s.connect(('127.0.0.1', port))\n",
    "        if message_data is  None:\n",
    "            raise ValueError(f\"Message that is being sent to port {port} is empty\")\n",
    "        s.send(message_data.encode('UTF-8'))"
   ]
  },
  {
   "cell_type": "code",
   "execution_count": 5,
   "metadata": {},
   "outputs": [],
   "source": [
    "recv_head = socket.socket(socket.AF_INET, socket.SOCK_STREAM)\n",
    "recv_head.bind(('127.0.0.1', 5151))\n",
    "\n",
    "\n",
    "recv_tail = socket.socket(socket.AF_INET, socket.SOCK_STREAM)\n",
    "recv_tail.bind(('127.0.0.1', 8181))\n"
   ]
  },
  {
   "cell_type": "code",
   "execution_count": 6,
   "metadata": {},
   "outputs": [
    {
     "name": "stderr",
     "output_type": "stream",
     "text": [
      "\u001b[32m2023-04-23 18:10:53.305\u001b[0m | \u001b[1mINFO    \u001b[0m | \u001b[36m__main__\u001b[0m:\u001b[36m<module>\u001b[0m:\u001b[36m24\u001b[0m - \u001b[1mconnected body to get data from head 5151: ('127.0.0.1', 65518)\u001b[0m\n"
     ]
    },
    {
     "name": "stdout",
     "output_type": "stream",
     "text": [
      "Block 5 out -> [4, 128, 7, 7]\n",
      "Block 6 out -> [4, 64, 14, 14]\n",
      "Block 7 out -> [4, 32, 28, 28]\n",
      "Block 8 out -> [4, 16, 56, 56]\n"
     ]
    },
    {
     "name": "stderr",
     "output_type": "stream",
     "text": [
      "\u001b[32m2023-04-23 18:10:59.972\u001b[0m | \u001b[1mINFO    \u001b[0m | \u001b[36m__main__\u001b[0m:\u001b[36m<module>\u001b[0m:\u001b[36m40\u001b[0m - \u001b[1mdisconnected body to get data from head 5151: ('127.0.0.1', 65518)\u001b[0m\n",
      "\u001b[32m2023-04-23 18:10:59.985\u001b[0m | \u001b[1mINFO    \u001b[0m | \u001b[36m__main__\u001b[0m:\u001b[36m<module>\u001b[0m:\u001b[36m48\u001b[0m - \u001b[1msent the data from head to tail 7171 bd_layer_data\u001b[0m\n"
     ]
    },
    {
     "name": "stdout",
     "output_type": "stream",
     "text": [
      "Block 9 out -> [4, 8, 112, 112]\n"
     ]
    },
    {
     "name": "stderr",
     "output_type": "stream",
     "text": [
      "\u001b[32m2023-04-23 18:11:01.458\u001b[0m | \u001b[1mINFO    \u001b[0m | \u001b[36m__main__\u001b[0m:\u001b[36m<module>\u001b[0m:\u001b[36m52\u001b[0m - \u001b[1mconnected body to get data from tail 8181: ('127.0.0.1', 65525)\u001b[0m\n",
      "\u001b[32m2023-04-23 18:11:11.352\u001b[0m | \u001b[1mINFO    \u001b[0m | \u001b[36m__main__\u001b[0m:\u001b[36m<module>\u001b[0m:\u001b[36m69\u001b[0m - \u001b[1mdisconnected body to get data from tail 8181: ('127.0.0.1', 65525)\u001b[0m\n",
      "\u001b[32m2023-04-23 18:11:11.404\u001b[0m | \u001b[1mINFO    \u001b[0m | \u001b[36m__main__\u001b[0m:\u001b[36m<module>\u001b[0m:\u001b[36m79\u001b[0m - \u001b[1msent the backprop data from body to head 9999 skip 1/2/3/4 grad\u001b[0m\n",
      "\u001b[32m2023-04-23 18:11:24.287\u001b[0m | \u001b[1mINFO    \u001b[0m | \u001b[36m__main__\u001b[0m:\u001b[36m<module>\u001b[0m:\u001b[36m24\u001b[0m - \u001b[1mconnected body to get data from head 5151: ('127.0.0.1', 65534)\u001b[0m\n"
     ]
    },
    {
     "name": "stdout",
     "output_type": "stream",
     "text": [
      "Block 5 out -> [4, 128, 7, 7]\n",
      "Block 6 out -> [4, 64, 14, 14]\n",
      "Block 7 out -> [4, 32, 28, 28]\n",
      "Block 8 out -> [4, 16, 56, 56]\n"
     ]
    },
    {
     "name": "stderr",
     "output_type": "stream",
     "text": [
      "\u001b[32m2023-04-23 18:11:31.063\u001b[0m | \u001b[1mINFO    \u001b[0m | \u001b[36m__main__\u001b[0m:\u001b[36m<module>\u001b[0m:\u001b[36m40\u001b[0m - \u001b[1mdisconnected body to get data from head 5151: ('127.0.0.1', 65534)\u001b[0m\n",
      "\u001b[32m2023-04-23 18:11:31.080\u001b[0m | \u001b[1mINFO    \u001b[0m | \u001b[36m__main__\u001b[0m:\u001b[36m<module>\u001b[0m:\u001b[36m48\u001b[0m - \u001b[1msent the data from head to tail 7171 bd_layer_data\u001b[0m\n"
     ]
    },
    {
     "name": "stdout",
     "output_type": "stream",
     "text": [
      "Block 9 out -> [4, 8, 112, 112]\n"
     ]
    },
    {
     "name": "stderr",
     "output_type": "stream",
     "text": [
      "\u001b[32m2023-04-23 18:11:32.418\u001b[0m | \u001b[1mINFO    \u001b[0m | \u001b[36m__main__\u001b[0m:\u001b[36m<module>\u001b[0m:\u001b[36m52\u001b[0m - \u001b[1mconnected body to get data from tail 8181: ('127.0.0.1', 49161)\u001b[0m\n",
      "\u001b[32m2023-04-23 18:11:36.321\u001b[0m | \u001b[1mINFO    \u001b[0m | \u001b[36m__main__\u001b[0m:\u001b[36m<module>\u001b[0m:\u001b[36m69\u001b[0m - \u001b[1mdisconnected body to get data from tail 8181: ('127.0.0.1', 49161)\u001b[0m\n",
      "\u001b[32m2023-04-23 18:11:36.332\u001b[0m | \u001b[1mINFO    \u001b[0m | \u001b[36m__main__\u001b[0m:\u001b[36m<module>\u001b[0m:\u001b[36m79\u001b[0m - \u001b[1msent the backprop data from body to head 9999 skip 1/2/3/4 grad\u001b[0m\n",
      "\u001b[32m2023-04-23 18:11:48.110\u001b[0m | \u001b[1mINFO    \u001b[0m | \u001b[36m__main__\u001b[0m:\u001b[36m<module>\u001b[0m:\u001b[36m24\u001b[0m - \u001b[1mconnected body to get data from head 5151: ('127.0.0.1', 49171)\u001b[0m\n"
     ]
    },
    {
     "name": "stdout",
     "output_type": "stream",
     "text": [
      "Block 5 out -> [4, 128, 7, 7]\n",
      "Block 6 out -> [4, 64, 14, 14]\n",
      "Block 7 out -> [4, 32, 28, 28]\n",
      "Block 8 out -> [4, 16, 56, 56]\n"
     ]
    },
    {
     "name": "stderr",
     "output_type": "stream",
     "text": [
      "\u001b[32m2023-04-23 18:11:54.377\u001b[0m | \u001b[1mINFO    \u001b[0m | \u001b[36m__main__\u001b[0m:\u001b[36m<module>\u001b[0m:\u001b[36m40\u001b[0m - \u001b[1mdisconnected body to get data from head 5151: ('127.0.0.1', 49171)\u001b[0m\n",
      "\u001b[32m2023-04-23 18:11:54.392\u001b[0m | \u001b[1mINFO    \u001b[0m | \u001b[36m__main__\u001b[0m:\u001b[36m<module>\u001b[0m:\u001b[36m48\u001b[0m - \u001b[1msent the data from head to tail 7171 bd_layer_data\u001b[0m\n"
     ]
    },
    {
     "name": "stdout",
     "output_type": "stream",
     "text": [
      "Block 9 out -> [4, 8, 112, 112]\n"
     ]
    },
    {
     "name": "stderr",
     "output_type": "stream",
     "text": [
      "\u001b[32m2023-04-23 18:11:56.212\u001b[0m | \u001b[1mINFO    \u001b[0m | \u001b[36m__main__\u001b[0m:\u001b[36m<module>\u001b[0m:\u001b[36m52\u001b[0m - \u001b[1mconnected body to get data from tail 8181: ('127.0.0.1', 49183)\u001b[0m\n",
      "\u001b[32m2023-04-23 18:12:00.331\u001b[0m | \u001b[1mINFO    \u001b[0m | \u001b[36m__main__\u001b[0m:\u001b[36m<module>\u001b[0m:\u001b[36m69\u001b[0m - \u001b[1mdisconnected body to get data from tail 8181: ('127.0.0.1', 49183)\u001b[0m\n",
      "\u001b[32m2023-04-23 18:12:00.345\u001b[0m | \u001b[1mINFO    \u001b[0m | \u001b[36m__main__\u001b[0m:\u001b[36m<module>\u001b[0m:\u001b[36m79\u001b[0m - \u001b[1msent the backprop data from body to head 9999 skip 1/2/3/4 grad\u001b[0m\n",
      "\u001b[32m2023-04-23 18:12:11.909\u001b[0m | \u001b[1mINFO    \u001b[0m | \u001b[36m__main__\u001b[0m:\u001b[36m<module>\u001b[0m:\u001b[36m24\u001b[0m - \u001b[1mconnected body to get data from head 5151: ('127.0.0.1', 49189)\u001b[0m\n"
     ]
    },
    {
     "name": "stdout",
     "output_type": "stream",
     "text": [
      "Block 5 out -> [4, 128, 7, 7]\n",
      "Block 6 out -> [4, 64, 14, 14]\n",
      "Block 7 out -> [4, 32, 28, 28]\n",
      "Block 8 out -> [4, 16, 56, 56]\n"
     ]
    },
    {
     "name": "stderr",
     "output_type": "stream",
     "text": [
      "\u001b[32m2023-04-23 18:12:18.293\u001b[0m | \u001b[1mINFO    \u001b[0m | \u001b[36m__main__\u001b[0m:\u001b[36m<module>\u001b[0m:\u001b[36m40\u001b[0m - \u001b[1mdisconnected body to get data from head 5151: ('127.0.0.1', 49189)\u001b[0m\n",
      "\u001b[32m2023-04-23 18:12:18.308\u001b[0m | \u001b[1mINFO    \u001b[0m | \u001b[36m__main__\u001b[0m:\u001b[36m<module>\u001b[0m:\u001b[36m48\u001b[0m - \u001b[1msent the data from head to tail 7171 bd_layer_data\u001b[0m\n"
     ]
    },
    {
     "name": "stdout",
     "output_type": "stream",
     "text": [
      "Block 9 out -> [4, 8, 112, 112]\n"
     ]
    },
    {
     "name": "stderr",
     "output_type": "stream",
     "text": [
      "\u001b[32m2023-04-23 18:12:20.043\u001b[0m | \u001b[1mINFO    \u001b[0m | \u001b[36m__main__\u001b[0m:\u001b[36m<module>\u001b[0m:\u001b[36m52\u001b[0m - \u001b[1mconnected body to get data from tail 8181: ('127.0.0.1', 49200)\u001b[0m\n",
      "\u001b[32m2023-04-23 18:12:23.964\u001b[0m | \u001b[1mINFO    \u001b[0m | \u001b[36m__main__\u001b[0m:\u001b[36m<module>\u001b[0m:\u001b[36m69\u001b[0m - \u001b[1mdisconnected body to get data from tail 8181: ('127.0.0.1', 49200)\u001b[0m\n",
      "\u001b[32m2023-04-23 18:12:23.978\u001b[0m | \u001b[1mINFO    \u001b[0m | \u001b[36m__main__\u001b[0m:\u001b[36m<module>\u001b[0m:\u001b[36m79\u001b[0m - \u001b[1msent the backprop data from body to head 9999 skip 1/2/3/4 grad\u001b[0m\n",
      "\u001b[32m2023-04-23 18:12:36.191\u001b[0m | \u001b[1mINFO    \u001b[0m | \u001b[36m__main__\u001b[0m:\u001b[36m<module>\u001b[0m:\u001b[36m24\u001b[0m - \u001b[1mconnected body to get data from head 5151: ('127.0.0.1', 49216)\u001b[0m\n"
     ]
    },
    {
     "name": "stdout",
     "output_type": "stream",
     "text": [
      "Block 5 out -> [4, 128, 7, 7]\n",
      "Block 6 out -> [4, 64, 14, 14]\n",
      "Block 7 out -> [4, 32, 28, 28]\n",
      "Block 8 out -> [4, 16, 56, 56]\n"
     ]
    },
    {
     "name": "stderr",
     "output_type": "stream",
     "text": [
      "\u001b[32m2023-04-23 18:12:41.859\u001b[0m | \u001b[1mINFO    \u001b[0m | \u001b[36m__main__\u001b[0m:\u001b[36m<module>\u001b[0m:\u001b[36m40\u001b[0m - \u001b[1mdisconnected body to get data from head 5151: ('127.0.0.1', 49216)\u001b[0m\n",
      "\u001b[32m2023-04-23 18:12:41.879\u001b[0m | \u001b[1mINFO    \u001b[0m | \u001b[36m__main__\u001b[0m:\u001b[36m<module>\u001b[0m:\u001b[36m48\u001b[0m - \u001b[1msent the data from head to tail 7171 bd_layer_data\u001b[0m\n"
     ]
    },
    {
     "name": "stdout",
     "output_type": "stream",
     "text": [
      "Block 9 out -> [4, 8, 112, 112]\n"
     ]
    },
    {
     "name": "stderr",
     "output_type": "stream",
     "text": [
      "\u001b[32m2023-04-23 18:12:44.294\u001b[0m | \u001b[1mINFO    \u001b[0m | \u001b[36m__main__\u001b[0m:\u001b[36m<module>\u001b[0m:\u001b[36m52\u001b[0m - \u001b[1mconnected body to get data from tail 8181: ('127.0.0.1', 49220)\u001b[0m\n",
      "\u001b[32m2023-04-23 18:12:48.041\u001b[0m | \u001b[1mINFO    \u001b[0m | \u001b[36m__main__\u001b[0m:\u001b[36m<module>\u001b[0m:\u001b[36m69\u001b[0m - \u001b[1mdisconnected body to get data from tail 8181: ('127.0.0.1', 49220)\u001b[0m\n",
      "\u001b[32m2023-04-23 18:12:48.111\u001b[0m | \u001b[1mINFO    \u001b[0m | \u001b[36m__main__\u001b[0m:\u001b[36m<module>\u001b[0m:\u001b[36m79\u001b[0m - \u001b[1msent the backprop data from body to head 9999 skip 1/2/3/4 grad\u001b[0m\n",
      "\u001b[32m2023-04-23 18:12:58.142\u001b[0m | \u001b[1mINFO    \u001b[0m | \u001b[36m__main__\u001b[0m:\u001b[36m<module>\u001b[0m:\u001b[36m24\u001b[0m - \u001b[1mconnected body to get data from head 5151: ('127.0.0.1', 49231)\u001b[0m\n"
     ]
    },
    {
     "name": "stdout",
     "output_type": "stream",
     "text": [
      "Block 5 out -> [4, 128, 7, 7]\n",
      "Block 6 out -> [4, 64, 14, 14]\n",
      "Block 7 out -> [4, 32, 28, 28]\n",
      "Block 8 out -> [4, 16, 56, 56]\n"
     ]
    },
    {
     "name": "stderr",
     "output_type": "stream",
     "text": [
      "\u001b[32m2023-04-23 18:13:03.777\u001b[0m | \u001b[1mINFO    \u001b[0m | \u001b[36m__main__\u001b[0m:\u001b[36m<module>\u001b[0m:\u001b[36m40\u001b[0m - \u001b[1mdisconnected body to get data from head 5151: ('127.0.0.1', 49231)\u001b[0m\n",
      "\u001b[32m2023-04-23 18:13:03.789\u001b[0m | \u001b[1mINFO    \u001b[0m | \u001b[36m__main__\u001b[0m:\u001b[36m<module>\u001b[0m:\u001b[36m48\u001b[0m - \u001b[1msent the data from head to tail 7171 bd_layer_data\u001b[0m\n"
     ]
    },
    {
     "name": "stdout",
     "output_type": "stream",
     "text": [
      "Block 9 out -> [4, 8, 112, 112]\n"
     ]
    },
    {
     "name": "stderr",
     "output_type": "stream",
     "text": [
      "\u001b[32m2023-04-23 18:13:06.342\u001b[0m | \u001b[1mINFO    \u001b[0m | \u001b[36m__main__\u001b[0m:\u001b[36m<module>\u001b[0m:\u001b[36m52\u001b[0m - \u001b[1mconnected body to get data from tail 8181: ('127.0.0.1', 49234)\u001b[0m\n",
      "\u001b[32m2023-04-23 18:13:09.737\u001b[0m | \u001b[1mINFO    \u001b[0m | \u001b[36m__main__\u001b[0m:\u001b[36m<module>\u001b[0m:\u001b[36m69\u001b[0m - \u001b[1mdisconnected body to get data from tail 8181: ('127.0.0.1', 49234)\u001b[0m\n",
      "\u001b[32m2023-04-23 18:13:09.752\u001b[0m | \u001b[1mINFO    \u001b[0m | \u001b[36m__main__\u001b[0m:\u001b[36m<module>\u001b[0m:\u001b[36m79\u001b[0m - \u001b[1msent the backprop data from body to head 9999 skip 1/2/3/4 grad\u001b[0m\n",
      "\u001b[32m2023-04-23 18:13:20.144\u001b[0m | \u001b[1mINFO    \u001b[0m | \u001b[36m__main__\u001b[0m:\u001b[36m<module>\u001b[0m:\u001b[36m24\u001b[0m - \u001b[1mconnected body to get data from head 5151: ('127.0.0.1', 49247)\u001b[0m\n"
     ]
    },
    {
     "name": "stdout",
     "output_type": "stream",
     "text": [
      "Block 5 out -> [4, 128, 7, 7]\n",
      "Block 6 out -> [4, 64, 14, 14]\n",
      "Block 7 out -> [4, 32, 28, 28]\n",
      "Block 8 out -> [4, 16, 56, 56]\n"
     ]
    },
    {
     "name": "stderr",
     "output_type": "stream",
     "text": [
      "\u001b[32m2023-04-23 18:13:25.761\u001b[0m | \u001b[1mINFO    \u001b[0m | \u001b[36m__main__\u001b[0m:\u001b[36m<module>\u001b[0m:\u001b[36m40\u001b[0m - \u001b[1mdisconnected body to get data from head 5151: ('127.0.0.1', 49247)\u001b[0m\n",
      "\u001b[32m2023-04-23 18:13:25.775\u001b[0m | \u001b[1mINFO    \u001b[0m | \u001b[36m__main__\u001b[0m:\u001b[36m<module>\u001b[0m:\u001b[36m48\u001b[0m - \u001b[1msent the data from head to tail 7171 bd_layer_data\u001b[0m\n"
     ]
    },
    {
     "name": "stdout",
     "output_type": "stream",
     "text": [
      "Block 9 out -> [4, 8, 112, 112]\n"
     ]
    },
    {
     "name": "stderr",
     "output_type": "stream",
     "text": [
      "\u001b[32m2023-04-23 18:13:28.253\u001b[0m | \u001b[1mINFO    \u001b[0m | \u001b[36m__main__\u001b[0m:\u001b[36m<module>\u001b[0m:\u001b[36m52\u001b[0m - \u001b[1mconnected body to get data from tail 8181: ('127.0.0.1', 49259)\u001b[0m\n",
      "\u001b[32m2023-04-23 18:13:31.968\u001b[0m | \u001b[1mINFO    \u001b[0m | \u001b[36m__main__\u001b[0m:\u001b[36m<module>\u001b[0m:\u001b[36m69\u001b[0m - \u001b[1mdisconnected body to get data from tail 8181: ('127.0.0.1', 49259)\u001b[0m\n",
      "\u001b[32m2023-04-23 18:13:31.979\u001b[0m | \u001b[1mINFO    \u001b[0m | \u001b[36m__main__\u001b[0m:\u001b[36m<module>\u001b[0m:\u001b[36m79\u001b[0m - \u001b[1msent the backprop data from body to head 9999 skip 1/2/3/4 grad\u001b[0m\n",
      "\u001b[32m2023-04-23 18:13:42.873\u001b[0m | \u001b[1mINFO    \u001b[0m | \u001b[36m__main__\u001b[0m:\u001b[36m<module>\u001b[0m:\u001b[36m24\u001b[0m - \u001b[1mconnected body to get data from head 5151: ('127.0.0.1', 49268)\u001b[0m\n"
     ]
    },
    {
     "name": "stdout",
     "output_type": "stream",
     "text": [
      "Block 5 out -> [4, 128, 7, 7]\n",
      "Block 6 out -> [4, 64, 14, 14]\n",
      "Block 7 out -> [4, 32, 28, 28]\n",
      "Block 8 out -> [4, 16, 56, 56]\n"
     ]
    },
    {
     "name": "stderr",
     "output_type": "stream",
     "text": [
      "\u001b[32m2023-04-23 18:13:48.862\u001b[0m | \u001b[1mINFO    \u001b[0m | \u001b[36m__main__\u001b[0m:\u001b[36m<module>\u001b[0m:\u001b[36m40\u001b[0m - \u001b[1mdisconnected body to get data from head 5151: ('127.0.0.1', 49268)\u001b[0m\n",
      "\u001b[32m2023-04-23 18:13:48.873\u001b[0m | \u001b[1mINFO    \u001b[0m | \u001b[36m__main__\u001b[0m:\u001b[36m<module>\u001b[0m:\u001b[36m48\u001b[0m - \u001b[1msent the data from head to tail 7171 bd_layer_data\u001b[0m\n"
     ]
    },
    {
     "name": "stdout",
     "output_type": "stream",
     "text": [
      "Block 9 out -> [4, 8, 112, 112]\n"
     ]
    },
    {
     "name": "stderr",
     "output_type": "stream",
     "text": [
      "\u001b[32m2023-04-23 18:13:50.994\u001b[0m | \u001b[1mINFO    \u001b[0m | \u001b[36m__main__\u001b[0m:\u001b[36m<module>\u001b[0m:\u001b[36m52\u001b[0m - \u001b[1mconnected body to get data from tail 8181: ('127.0.0.1', 49281)\u001b[0m\n",
      "\u001b[32m2023-04-23 18:13:55.855\u001b[0m | \u001b[1mINFO    \u001b[0m | \u001b[36m__main__\u001b[0m:\u001b[36m<module>\u001b[0m:\u001b[36m69\u001b[0m - \u001b[1mdisconnected body to get data from tail 8181: ('127.0.0.1', 49281)\u001b[0m\n",
      "\u001b[32m2023-04-23 18:13:55.874\u001b[0m | \u001b[1mINFO    \u001b[0m | \u001b[36m__main__\u001b[0m:\u001b[36m<module>\u001b[0m:\u001b[36m79\u001b[0m - \u001b[1msent the backprop data from body to head 9999 skip 1/2/3/4 grad\u001b[0m\n",
      "\u001b[32m2023-04-23 18:14:05.935\u001b[0m | \u001b[1mINFO    \u001b[0m | \u001b[36m__main__\u001b[0m:\u001b[36m<module>\u001b[0m:\u001b[36m24\u001b[0m - \u001b[1mconnected body to get data from head 5151: ('127.0.0.1', 49286)\u001b[0m\n"
     ]
    },
    {
     "name": "stdout",
     "output_type": "stream",
     "text": [
      "Block 5 out -> [4, 128, 7, 7]\n",
      "Block 6 out -> [4, 64, 14, 14]\n",
      "Block 7 out -> [4, 32, 28, 28]\n",
      "Block 8 out -> [4, 16, 56, 56]\n"
     ]
    },
    {
     "name": "stderr",
     "output_type": "stream",
     "text": [
      "\u001b[32m2023-04-23 18:14:11.576\u001b[0m | \u001b[1mINFO    \u001b[0m | \u001b[36m__main__\u001b[0m:\u001b[36m<module>\u001b[0m:\u001b[36m40\u001b[0m - \u001b[1mdisconnected body to get data from head 5151: ('127.0.0.1', 49286)\u001b[0m\n",
      "\u001b[32m2023-04-23 18:14:11.589\u001b[0m | \u001b[1mINFO    \u001b[0m | \u001b[36m__main__\u001b[0m:\u001b[36m<module>\u001b[0m:\u001b[36m48\u001b[0m - \u001b[1msent the data from head to tail 7171 bd_layer_data\u001b[0m\n"
     ]
    },
    {
     "name": "stdout",
     "output_type": "stream",
     "text": [
      "Block 9 out -> [4, 8, 112, 112]\n"
     ]
    },
    {
     "name": "stderr",
     "output_type": "stream",
     "text": [
      "\u001b[32m2023-04-23 18:14:14.044\u001b[0m | \u001b[1mINFO    \u001b[0m | \u001b[36m__main__\u001b[0m:\u001b[36m<module>\u001b[0m:\u001b[36m52\u001b[0m - \u001b[1mconnected body to get data from tail 8181: ('127.0.0.1', 49293)\u001b[0m\n",
      "\u001b[32m2023-04-23 18:14:17.273\u001b[0m | \u001b[1mINFO    \u001b[0m | \u001b[36m__main__\u001b[0m:\u001b[36m<module>\u001b[0m:\u001b[36m69\u001b[0m - \u001b[1mdisconnected body to get data from tail 8181: ('127.0.0.1', 49293)\u001b[0m\n",
      "\u001b[32m2023-04-23 18:14:17.285\u001b[0m | \u001b[1mINFO    \u001b[0m | \u001b[36m__main__\u001b[0m:\u001b[36m<module>\u001b[0m:\u001b[36m79\u001b[0m - \u001b[1msent the backprop data from body to head 9999 skip 1/2/3/4 grad\u001b[0m\n",
      "\u001b[32m2023-04-23 18:14:27.446\u001b[0m | \u001b[1mINFO    \u001b[0m | \u001b[36m__main__\u001b[0m:\u001b[36m<module>\u001b[0m:\u001b[36m24\u001b[0m - \u001b[1mconnected body to get data from head 5151: ('127.0.0.1', 49300)\u001b[0m\n"
     ]
    },
    {
     "name": "stdout",
     "output_type": "stream",
     "text": [
      "Block 5 out -> [4, 128, 7, 7]\n",
      "Block 6 out -> [4, 64, 14, 14]\n",
      "Block 7 out -> [4, 32, 28, 28]\n",
      "Block 8 out -> [4, 16, 56, 56]\n"
     ]
    },
    {
     "name": "stderr",
     "output_type": "stream",
     "text": [
      "\u001b[32m2023-04-23 18:14:33.156\u001b[0m | \u001b[1mINFO    \u001b[0m | \u001b[36m__main__\u001b[0m:\u001b[36m<module>\u001b[0m:\u001b[36m40\u001b[0m - \u001b[1mdisconnected body to get data from head 5151: ('127.0.0.1', 49300)\u001b[0m\n",
      "\u001b[32m2023-04-23 18:14:33.170\u001b[0m | \u001b[1mINFO    \u001b[0m | \u001b[36m__main__\u001b[0m:\u001b[36m<module>\u001b[0m:\u001b[36m48\u001b[0m - \u001b[1msent the data from head to tail 7171 bd_layer_data\u001b[0m\n"
     ]
    },
    {
     "name": "stdout",
     "output_type": "stream",
     "text": [
      "Block 9 out -> [4, 8, 112, 112]\n"
     ]
    },
    {
     "name": "stderr",
     "output_type": "stream",
     "text": [
      "\u001b[32m2023-04-23 18:14:35.557\u001b[0m | \u001b[1mINFO    \u001b[0m | \u001b[36m__main__\u001b[0m:\u001b[36m<module>\u001b[0m:\u001b[36m52\u001b[0m - \u001b[1mconnected body to get data from tail 8181: ('127.0.0.1', 49305)\u001b[0m\n",
      "\u001b[32m2023-04-23 18:14:40.135\u001b[0m | \u001b[1mINFO    \u001b[0m | \u001b[36m__main__\u001b[0m:\u001b[36m<module>\u001b[0m:\u001b[36m69\u001b[0m - \u001b[1mdisconnected body to get data from tail 8181: ('127.0.0.1', 49305)\u001b[0m\n",
      "\u001b[32m2023-04-23 18:14:40.146\u001b[0m | \u001b[1mINFO    \u001b[0m | \u001b[36m__main__\u001b[0m:\u001b[36m<module>\u001b[0m:\u001b[36m79\u001b[0m - \u001b[1msent the backprop data from body to head 9999 skip 1/2/3/4 grad\u001b[0m\n",
      "\u001b[32m2023-04-23 18:14:50.752\u001b[0m | \u001b[1mINFO    \u001b[0m | \u001b[36m__main__\u001b[0m:\u001b[36m<module>\u001b[0m:\u001b[36m24\u001b[0m - \u001b[1mconnected body to get data from head 5151: ('127.0.0.1', 49316)\u001b[0m\n"
     ]
    },
    {
     "name": "stdout",
     "output_type": "stream",
     "text": [
      "Block 5 out -> [4, 128, 7, 7]\n",
      "Block 6 out -> [4, 64, 14, 14]\n",
      "Block 7 out -> [4, 32, 28, 28]\n",
      "Block 8 out -> [4, 16, 56, 56]\n"
     ]
    },
    {
     "name": "stderr",
     "output_type": "stream",
     "text": [
      "\u001b[32m2023-04-23 18:14:56.339\u001b[0m | \u001b[1mINFO    \u001b[0m | \u001b[36m__main__\u001b[0m:\u001b[36m<module>\u001b[0m:\u001b[36m40\u001b[0m - \u001b[1mdisconnected body to get data from head 5151: ('127.0.0.1', 49316)\u001b[0m\n",
      "\u001b[32m2023-04-23 18:14:56.354\u001b[0m | \u001b[1mINFO    \u001b[0m | \u001b[36m__main__\u001b[0m:\u001b[36m<module>\u001b[0m:\u001b[36m48\u001b[0m - \u001b[1msent the data from head to tail 7171 bd_layer_data\u001b[0m\n"
     ]
    },
    {
     "name": "stdout",
     "output_type": "stream",
     "text": [
      "Block 9 out -> [4, 8, 112, 112]\n"
     ]
    },
    {
     "name": "stderr",
     "output_type": "stream",
     "text": [
      "\u001b[32m2023-04-23 18:14:58.863\u001b[0m | \u001b[1mINFO    \u001b[0m | \u001b[36m__main__\u001b[0m:\u001b[36m<module>\u001b[0m:\u001b[36m52\u001b[0m - \u001b[1mconnected body to get data from tail 8181: ('127.0.0.1', 49320)\u001b[0m\n",
      "\u001b[32m2023-04-23 18:15:02.341\u001b[0m | \u001b[1mINFO    \u001b[0m | \u001b[36m__main__\u001b[0m:\u001b[36m<module>\u001b[0m:\u001b[36m69\u001b[0m - \u001b[1mdisconnected body to get data from tail 8181: ('127.0.0.1', 49320)\u001b[0m\n",
      "\u001b[32m2023-04-23 18:15:02.365\u001b[0m | \u001b[1mINFO    \u001b[0m | \u001b[36m__main__\u001b[0m:\u001b[36m<module>\u001b[0m:\u001b[36m79\u001b[0m - \u001b[1msent the backprop data from body to head 9999 skip 1/2/3/4 grad\u001b[0m\n",
      "\u001b[32m2023-04-23 18:15:12.120\u001b[0m | \u001b[1mINFO    \u001b[0m | \u001b[36m__main__\u001b[0m:\u001b[36m<module>\u001b[0m:\u001b[36m24\u001b[0m - \u001b[1mconnected body to get data from head 5151: ('127.0.0.1', 49328)\u001b[0m\n"
     ]
    },
    {
     "name": "stdout",
     "output_type": "stream",
     "text": [
      "Block 5 out -> [4, 128, 7, 7]\n",
      "Block 6 out -> [4, 64, 14, 14]\n",
      "Block 7 out -> [4, 32, 28, 28]\n",
      "Block 8 out -> [4, 16, 56, 56]\n"
     ]
    },
    {
     "name": "stderr",
     "output_type": "stream",
     "text": [
      "\u001b[32m2023-04-23 18:15:17.746\u001b[0m | \u001b[1mINFO    \u001b[0m | \u001b[36m__main__\u001b[0m:\u001b[36m<module>\u001b[0m:\u001b[36m40\u001b[0m - \u001b[1mdisconnected body to get data from head 5151: ('127.0.0.1', 49328)\u001b[0m\n",
      "\u001b[32m2023-04-23 18:15:17.760\u001b[0m | \u001b[1mINFO    \u001b[0m | \u001b[36m__main__\u001b[0m:\u001b[36m<module>\u001b[0m:\u001b[36m48\u001b[0m - \u001b[1msent the data from head to tail 7171 bd_layer_data\u001b[0m\n"
     ]
    },
    {
     "name": "stdout",
     "output_type": "stream",
     "text": [
      "Block 9 out -> [4, 8, 112, 112]\n"
     ]
    },
    {
     "name": "stderr",
     "output_type": "stream",
     "text": [
      "\u001b[32m2023-04-23 18:15:20.224\u001b[0m | \u001b[1mINFO    \u001b[0m | \u001b[36m__main__\u001b[0m:\u001b[36m<module>\u001b[0m:\u001b[36m52\u001b[0m - \u001b[1mconnected body to get data from tail 8181: ('127.0.0.1', 49334)\u001b[0m\n",
      "\u001b[32m2023-04-23 18:15:23.601\u001b[0m | \u001b[1mINFO    \u001b[0m | \u001b[36m__main__\u001b[0m:\u001b[36m<module>\u001b[0m:\u001b[36m69\u001b[0m - \u001b[1mdisconnected body to get data from tail 8181: ('127.0.0.1', 49334)\u001b[0m\n",
      "\u001b[32m2023-04-23 18:15:23.617\u001b[0m | \u001b[1mINFO    \u001b[0m | \u001b[36m__main__\u001b[0m:\u001b[36m<module>\u001b[0m:\u001b[36m79\u001b[0m - \u001b[1msent the backprop data from body to head 9999 skip 1/2/3/4 grad\u001b[0m\n",
      "\u001b[32m2023-04-23 18:15:33.638\u001b[0m | \u001b[1mINFO    \u001b[0m | \u001b[36m__main__\u001b[0m:\u001b[36m<module>\u001b[0m:\u001b[36m24\u001b[0m - \u001b[1mconnected body to get data from head 5151: ('127.0.0.1', 49338)\u001b[0m\n"
     ]
    },
    {
     "name": "stdout",
     "output_type": "stream",
     "text": [
      "Block 5 out -> [4, 128, 7, 7]\n",
      "Block 6 out -> [4, 64, 14, 14]\n",
      "Block 7 out -> [4, 32, 28, 28]\n",
      "Block 8 out -> [4, 16, 56, 56]\n"
     ]
    },
    {
     "name": "stderr",
     "output_type": "stream",
     "text": [
      "\u001b[32m2023-04-23 18:15:39.388\u001b[0m | \u001b[1mINFO    \u001b[0m | \u001b[36m__main__\u001b[0m:\u001b[36m<module>\u001b[0m:\u001b[36m40\u001b[0m - \u001b[1mdisconnected body to get data from head 5151: ('127.0.0.1', 49338)\u001b[0m\n",
      "\u001b[32m2023-04-23 18:15:39.400\u001b[0m | \u001b[1mINFO    \u001b[0m | \u001b[36m__main__\u001b[0m:\u001b[36m<module>\u001b[0m:\u001b[36m48\u001b[0m - \u001b[1msent the data from head to tail 7171 bd_layer_data\u001b[0m\n"
     ]
    },
    {
     "name": "stdout",
     "output_type": "stream",
     "text": [
      "Block 9 out -> [4, 8, 112, 112]\n"
     ]
    },
    {
     "name": "stderr",
     "output_type": "stream",
     "text": [
      "\u001b[32m2023-04-23 18:15:41.750\u001b[0m | \u001b[1mINFO    \u001b[0m | \u001b[36m__main__\u001b[0m:\u001b[36m<module>\u001b[0m:\u001b[36m52\u001b[0m - \u001b[1mconnected body to get data from tail 8181: ('127.0.0.1', 49349)\u001b[0m\n",
      "\u001b[32m2023-04-23 18:15:44.971\u001b[0m | \u001b[1mINFO    \u001b[0m | \u001b[36m__main__\u001b[0m:\u001b[36m<module>\u001b[0m:\u001b[36m69\u001b[0m - \u001b[1mdisconnected body to get data from tail 8181: ('127.0.0.1', 49349)\u001b[0m\n",
      "\u001b[32m2023-04-23 18:15:44.981\u001b[0m | \u001b[1mINFO    \u001b[0m | \u001b[36m__main__\u001b[0m:\u001b[36m<module>\u001b[0m:\u001b[36m79\u001b[0m - \u001b[1msent the backprop data from body to head 9999 skip 1/2/3/4 grad\u001b[0m\n",
      "\u001b[32m2023-04-23 18:15:55.006\u001b[0m | \u001b[1mINFO    \u001b[0m | \u001b[36m__main__\u001b[0m:\u001b[36m<module>\u001b[0m:\u001b[36m24\u001b[0m - \u001b[1mconnected body to get data from head 5151: ('127.0.0.1', 49351)\u001b[0m\n"
     ]
    },
    {
     "name": "stdout",
     "output_type": "stream",
     "text": [
      "Block 5 out -> [4, 128, 7, 7]\n",
      "Block 6 out -> [4, 64, 14, 14]\n",
      "Block 7 out -> [4, 32, 28, 28]\n",
      "Block 8 out -> [4, 16, 56, 56]\n"
     ]
    },
    {
     "name": "stderr",
     "output_type": "stream",
     "text": [
      "\u001b[32m2023-04-23 18:16:00.607\u001b[0m | \u001b[1mINFO    \u001b[0m | \u001b[36m__main__\u001b[0m:\u001b[36m<module>\u001b[0m:\u001b[36m40\u001b[0m - \u001b[1mdisconnected body to get data from head 5151: ('127.0.0.1', 49351)\u001b[0m\n",
      "\u001b[32m2023-04-23 18:16:00.621\u001b[0m | \u001b[1mINFO    \u001b[0m | \u001b[36m__main__\u001b[0m:\u001b[36m<module>\u001b[0m:\u001b[36m48\u001b[0m - \u001b[1msent the data from head to tail 7171 bd_layer_data\u001b[0m\n"
     ]
    },
    {
     "name": "stdout",
     "output_type": "stream",
     "text": [
      "Block 9 out -> [4, 8, 112, 112]\n"
     ]
    },
    {
     "name": "stderr",
     "output_type": "stream",
     "text": [
      "\u001b[32m2023-04-23 18:16:03.105\u001b[0m | \u001b[1mINFO    \u001b[0m | \u001b[36m__main__\u001b[0m:\u001b[36m<module>\u001b[0m:\u001b[36m52\u001b[0m - \u001b[1mconnected body to get data from tail 8181: ('127.0.0.1', 49359)\u001b[0m\n",
      "\u001b[32m2023-04-23 18:16:06.359\u001b[0m | \u001b[1mINFO    \u001b[0m | \u001b[36m__main__\u001b[0m:\u001b[36m<module>\u001b[0m:\u001b[36m69\u001b[0m - \u001b[1mdisconnected body to get data from tail 8181: ('127.0.0.1', 49359)\u001b[0m\n",
      "\u001b[32m2023-04-23 18:16:06.371\u001b[0m | \u001b[1mINFO    \u001b[0m | \u001b[36m__main__\u001b[0m:\u001b[36m<module>\u001b[0m:\u001b[36m79\u001b[0m - \u001b[1msent the backprop data from body to head 9999 skip 1/2/3/4 grad\u001b[0m\n",
      "\u001b[32m2023-04-23 18:16:16.463\u001b[0m | \u001b[1mINFO    \u001b[0m | \u001b[36m__main__\u001b[0m:\u001b[36m<module>\u001b[0m:\u001b[36m24\u001b[0m - \u001b[1mconnected body to get data from head 5151: ('127.0.0.1', 49366)\u001b[0m\n"
     ]
    },
    {
     "name": "stdout",
     "output_type": "stream",
     "text": [
      "Block 5 out -> [4, 128, 7, 7]\n",
      "Block 6 out -> [4, 64, 14, 14]\n",
      "Block 7 out -> [4, 32, 28, 28]\n",
      "Block 8 out -> [4, 16, 56, 56]\n"
     ]
    },
    {
     "name": "stderr",
     "output_type": "stream",
     "text": [
      "\u001b[32m2023-04-23 18:16:21.994\u001b[0m | \u001b[1mINFO    \u001b[0m | \u001b[36m__main__\u001b[0m:\u001b[36m<module>\u001b[0m:\u001b[36m40\u001b[0m - \u001b[1mdisconnected body to get data from head 5151: ('127.0.0.1', 49366)\u001b[0m\n",
      "\u001b[32m2023-04-23 18:16:22.007\u001b[0m | \u001b[1mINFO    \u001b[0m | \u001b[36m__main__\u001b[0m:\u001b[36m<module>\u001b[0m:\u001b[36m48\u001b[0m - \u001b[1msent the data from head to tail 7171 bd_layer_data\u001b[0m\n"
     ]
    },
    {
     "name": "stdout",
     "output_type": "stream",
     "text": [
      "Block 9 out -> [4, 8, 112, 112]\n"
     ]
    },
    {
     "name": "stderr",
     "output_type": "stream",
     "text": [
      "\u001b[32m2023-04-23 18:16:24.570\u001b[0m | \u001b[1mINFO    \u001b[0m | \u001b[36m__main__\u001b[0m:\u001b[36m<module>\u001b[0m:\u001b[36m52\u001b[0m - \u001b[1mconnected body to get data from tail 8181: ('127.0.0.1', 49369)\u001b[0m\n",
      "\u001b[32m2023-04-23 18:16:27.764\u001b[0m | \u001b[1mINFO    \u001b[0m | \u001b[36m__main__\u001b[0m:\u001b[36m<module>\u001b[0m:\u001b[36m69\u001b[0m - \u001b[1mdisconnected body to get data from tail 8181: ('127.0.0.1', 49369)\u001b[0m\n",
      "\u001b[32m2023-04-23 18:16:27.774\u001b[0m | \u001b[1mINFO    \u001b[0m | \u001b[36m__main__\u001b[0m:\u001b[36m<module>\u001b[0m:\u001b[36m79\u001b[0m - \u001b[1msent the backprop data from body to head 9999 skip 1/2/3/4 grad\u001b[0m\n",
      "\u001b[32m2023-04-23 18:16:37.824\u001b[0m | \u001b[1mINFO    \u001b[0m | \u001b[36m__main__\u001b[0m:\u001b[36m<module>\u001b[0m:\u001b[36m24\u001b[0m - \u001b[1mconnected body to get data from head 5151: ('127.0.0.1', 49381)\u001b[0m\n"
     ]
    },
    {
     "name": "stdout",
     "output_type": "stream",
     "text": [
      "Block 5 out -> [4, 128, 7, 7]\n",
      "Block 6 out -> [4, 64, 14, 14]\n",
      "Block 7 out -> [4, 32, 28, 28]\n",
      "Block 8 out -> [4, 16, 56, 56]\n"
     ]
    },
    {
     "name": "stderr",
     "output_type": "stream",
     "text": [
      "\u001b[32m2023-04-23 18:16:43.318\u001b[0m | \u001b[1mINFO    \u001b[0m | \u001b[36m__main__\u001b[0m:\u001b[36m<module>\u001b[0m:\u001b[36m40\u001b[0m - \u001b[1mdisconnected body to get data from head 5151: ('127.0.0.1', 49381)\u001b[0m\n",
      "\u001b[32m2023-04-23 18:16:43.329\u001b[0m | \u001b[1mINFO    \u001b[0m | \u001b[36m__main__\u001b[0m:\u001b[36m<module>\u001b[0m:\u001b[36m48\u001b[0m - \u001b[1msent the data from head to tail 7171 bd_layer_data\u001b[0m\n"
     ]
    },
    {
     "name": "stdout",
     "output_type": "stream",
     "text": [
      "Block 9 out -> [4, 8, 112, 112]\n"
     ]
    },
    {
     "name": "stderr",
     "output_type": "stream",
     "text": [
      "\u001b[32m2023-04-23 18:16:45.939\u001b[0m | \u001b[1mINFO    \u001b[0m | \u001b[36m__main__\u001b[0m:\u001b[36m<module>\u001b[0m:\u001b[36m52\u001b[0m - \u001b[1mconnected body to get data from tail 8181: ('127.0.0.1', 49384)\u001b[0m\n",
      "\u001b[32m2023-04-23 18:16:49.377\u001b[0m | \u001b[1mINFO    \u001b[0m | \u001b[36m__main__\u001b[0m:\u001b[36m<module>\u001b[0m:\u001b[36m69\u001b[0m - \u001b[1mdisconnected body to get data from tail 8181: ('127.0.0.1', 49384)\u001b[0m\n",
      "\u001b[32m2023-04-23 18:16:49.388\u001b[0m | \u001b[1mINFO    \u001b[0m | \u001b[36m__main__\u001b[0m:\u001b[36m<module>\u001b[0m:\u001b[36m79\u001b[0m - \u001b[1msent the backprop data from body to head 9999 skip 1/2/3/4 grad\u001b[0m\n",
      "\u001b[32m2023-04-23 18:16:59.515\u001b[0m | \u001b[1mINFO    \u001b[0m | \u001b[36m__main__\u001b[0m:\u001b[36m<module>\u001b[0m:\u001b[36m24\u001b[0m - \u001b[1mconnected body to get data from head 5151: ('127.0.0.1', 49392)\u001b[0m\n"
     ]
    },
    {
     "name": "stdout",
     "output_type": "stream",
     "text": [
      "Block 5 out -> [4, 128, 7, 7]\n",
      "Block 6 out -> [4, 64, 14, 14]\n",
      "Block 7 out -> [4, 32, 28, 28]\n",
      "Block 8 out -> [4, 16, 56, 56]\n"
     ]
    },
    {
     "name": "stderr",
     "output_type": "stream",
     "text": [
      "\u001b[32m2023-04-23 18:17:05.160\u001b[0m | \u001b[1mINFO    \u001b[0m | \u001b[36m__main__\u001b[0m:\u001b[36m<module>\u001b[0m:\u001b[36m40\u001b[0m - \u001b[1mdisconnected body to get data from head 5151: ('127.0.0.1', 49392)\u001b[0m\n",
      "\u001b[32m2023-04-23 18:17:05.173\u001b[0m | \u001b[1mINFO    \u001b[0m | \u001b[36m__main__\u001b[0m:\u001b[36m<module>\u001b[0m:\u001b[36m48\u001b[0m - \u001b[1msent the data from head to tail 7171 bd_layer_data\u001b[0m\n"
     ]
    },
    {
     "name": "stdout",
     "output_type": "stream",
     "text": [
      "Block 9 out -> [4, 8, 112, 112]\n"
     ]
    },
    {
     "name": "stderr",
     "output_type": "stream",
     "text": [
      "\u001b[32m2023-04-23 18:17:07.624\u001b[0m | \u001b[1mINFO    \u001b[0m | \u001b[36m__main__\u001b[0m:\u001b[36m<module>\u001b[0m:\u001b[36m52\u001b[0m - \u001b[1mconnected body to get data from tail 8181: ('127.0.0.1', 49404)\u001b[0m\n",
      "\u001b[32m2023-04-23 18:17:11.114\u001b[0m | \u001b[1mINFO    \u001b[0m | \u001b[36m__main__\u001b[0m:\u001b[36m<module>\u001b[0m:\u001b[36m69\u001b[0m - \u001b[1mdisconnected body to get data from tail 8181: ('127.0.0.1', 49404)\u001b[0m\n",
      "\u001b[32m2023-04-23 18:17:11.122\u001b[0m | \u001b[1mINFO    \u001b[0m | \u001b[36m__main__\u001b[0m:\u001b[36m<module>\u001b[0m:\u001b[36m79\u001b[0m - \u001b[1msent the backprop data from body to head 9999 skip 1/2/3/4 grad\u001b[0m\n",
      "\u001b[32m2023-04-23 18:17:20.714\u001b[0m | \u001b[1mINFO    \u001b[0m | \u001b[36m__main__\u001b[0m:\u001b[36m<module>\u001b[0m:\u001b[36m24\u001b[0m - \u001b[1mconnected body to get data from head 5151: ('127.0.0.1', 49677)\u001b[0m\n"
     ]
    },
    {
     "name": "stdout",
     "output_type": "stream",
     "text": [
      "Block 5 out -> [4, 128, 7, 7]\n",
      "Block 6 out -> [4, 64, 14, 14]\n",
      "Block 7 out -> [4, 32, 28, 28]\n",
      "Block 8 out -> [4, 16, 56, 56]\n"
     ]
    },
    {
     "name": "stderr",
     "output_type": "stream",
     "text": [
      "\u001b[32m2023-04-23 18:17:26.253\u001b[0m | \u001b[1mINFO    \u001b[0m | \u001b[36m__main__\u001b[0m:\u001b[36m<module>\u001b[0m:\u001b[36m40\u001b[0m - \u001b[1mdisconnected body to get data from head 5151: ('127.0.0.1', 49677)\u001b[0m\n",
      "\u001b[32m2023-04-23 18:17:26.267\u001b[0m | \u001b[1mINFO    \u001b[0m | \u001b[36m__main__\u001b[0m:\u001b[36m<module>\u001b[0m:\u001b[36m48\u001b[0m - \u001b[1msent the data from head to tail 7171 bd_layer_data\u001b[0m\n"
     ]
    },
    {
     "name": "stdout",
     "output_type": "stream",
     "text": [
      "Block 9 out -> [4, 8, 112, 112]\n"
     ]
    },
    {
     "name": "stderr",
     "output_type": "stream",
     "text": [
      "\u001b[32m2023-04-23 18:17:28.821\u001b[0m | \u001b[1mINFO    \u001b[0m | \u001b[36m__main__\u001b[0m:\u001b[36m<module>\u001b[0m:\u001b[36m52\u001b[0m - \u001b[1mconnected body to get data from tail 8181: ('127.0.0.1', 49686)\u001b[0m\n",
      "\u001b[32m2023-04-23 18:17:32.125\u001b[0m | \u001b[1mINFO    \u001b[0m | \u001b[36m__main__\u001b[0m:\u001b[36m<module>\u001b[0m:\u001b[36m69\u001b[0m - \u001b[1mdisconnected body to get data from tail 8181: ('127.0.0.1', 49686)\u001b[0m\n",
      "\u001b[32m2023-04-23 18:17:32.135\u001b[0m | \u001b[1mINFO    \u001b[0m | \u001b[36m__main__\u001b[0m:\u001b[36m<module>\u001b[0m:\u001b[36m79\u001b[0m - \u001b[1msent the backprop data from body to head 9999 skip 1/2/3/4 grad\u001b[0m\n",
      "\u001b[32m2023-04-23 18:17:43.779\u001b[0m | \u001b[1mINFO    \u001b[0m | \u001b[36m__main__\u001b[0m:\u001b[36m<module>\u001b[0m:\u001b[36m24\u001b[0m - \u001b[1mconnected body to get data from head 5151: ('127.0.0.1', 49700)\u001b[0m\n"
     ]
    },
    {
     "name": "stdout",
     "output_type": "stream",
     "text": [
      "Block 5 out -> [4, 128, 7, 7]\n",
      "Block 6 out -> [4, 64, 14, 14]\n",
      "Block 7 out -> [4, 32, 28, 28]\n",
      "Block 8 out -> [4, 16, 56, 56]\n"
     ]
    },
    {
     "name": "stderr",
     "output_type": "stream",
     "text": [
      "\u001b[32m2023-04-23 18:17:50.627\u001b[0m | \u001b[1mINFO    \u001b[0m | \u001b[36m__main__\u001b[0m:\u001b[36m<module>\u001b[0m:\u001b[36m40\u001b[0m - \u001b[1mdisconnected body to get data from head 5151: ('127.0.0.1', 49700)\u001b[0m\n",
      "\u001b[32m2023-04-23 18:17:50.642\u001b[0m | \u001b[1mINFO    \u001b[0m | \u001b[36m__main__\u001b[0m:\u001b[36m<module>\u001b[0m:\u001b[36m48\u001b[0m - \u001b[1msent the data from head to tail 7171 bd_layer_data\u001b[0m\n"
     ]
    },
    {
     "name": "stdout",
     "output_type": "stream",
     "text": [
      "Block 9 out -> [4, 8, 112, 112]\n"
     ]
    },
    {
     "name": "stderr",
     "output_type": "stream",
     "text": [
      "\u001b[32m2023-04-23 18:17:51.894\u001b[0m | \u001b[1mINFO    \u001b[0m | \u001b[36m__main__\u001b[0m:\u001b[36m<module>\u001b[0m:\u001b[36m52\u001b[0m - \u001b[1mconnected body to get data from tail 8181: ('127.0.0.1', 49711)\u001b[0m\n",
      "\u001b[32m2023-04-23 18:17:56.084\u001b[0m | \u001b[1mINFO    \u001b[0m | \u001b[36m__main__\u001b[0m:\u001b[36m<module>\u001b[0m:\u001b[36m69\u001b[0m - \u001b[1mdisconnected body to get data from tail 8181: ('127.0.0.1', 49711)\u001b[0m\n",
      "\u001b[32m2023-04-23 18:17:56.100\u001b[0m | \u001b[1mINFO    \u001b[0m | \u001b[36m__main__\u001b[0m:\u001b[36m<module>\u001b[0m:\u001b[36m79\u001b[0m - \u001b[1msent the backprop data from body to head 9999 skip 1/2/3/4 grad\u001b[0m\n",
      "\u001b[32m2023-04-23 18:18:06.908\u001b[0m | \u001b[1mINFO    \u001b[0m | \u001b[36m__main__\u001b[0m:\u001b[36m<module>\u001b[0m:\u001b[36m24\u001b[0m - \u001b[1mconnected body to get data from head 5151: ('127.0.0.1', 49827)\u001b[0m\n"
     ]
    },
    {
     "name": "stdout",
     "output_type": "stream",
     "text": [
      "Block 5 out -> [4, 128, 7, 7]\n",
      "Block 6 out -> [4, 64, 14, 14]\n",
      "Block 7 out -> [4, 32, 28, 28]\n",
      "Block 8 out -> [4, 16, 56, 56]\n"
     ]
    },
    {
     "name": "stderr",
     "output_type": "stream",
     "text": [
      "\u001b[32m2023-04-23 18:18:13.085\u001b[0m | \u001b[1mINFO    \u001b[0m | \u001b[36m__main__\u001b[0m:\u001b[36m<module>\u001b[0m:\u001b[36m40\u001b[0m - \u001b[1mdisconnected body to get data from head 5151: ('127.0.0.1', 49827)\u001b[0m\n",
      "\u001b[32m2023-04-23 18:18:13.106\u001b[0m | \u001b[1mINFO    \u001b[0m | \u001b[36m__main__\u001b[0m:\u001b[36m<module>\u001b[0m:\u001b[36m48\u001b[0m - \u001b[1msent the data from head to tail 7171 bd_layer_data\u001b[0m\n"
     ]
    },
    {
     "name": "stdout",
     "output_type": "stream",
     "text": [
      "Block 9 out -> [4, 8, 112, 112]\n"
     ]
    },
    {
     "name": "stderr",
     "output_type": "stream",
     "text": [
      "\u001b[32m2023-04-23 18:18:15.014\u001b[0m | \u001b[1mINFO    \u001b[0m | \u001b[36m__main__\u001b[0m:\u001b[36m<module>\u001b[0m:\u001b[36m52\u001b[0m - \u001b[1mconnected body to get data from tail 8181: ('127.0.0.1', 49833)\u001b[0m\n",
      "\u001b[32m2023-04-23 18:18:18.756\u001b[0m | \u001b[1mINFO    \u001b[0m | \u001b[36m__main__\u001b[0m:\u001b[36m<module>\u001b[0m:\u001b[36m69\u001b[0m - \u001b[1mdisconnected body to get data from tail 8181: ('127.0.0.1', 49833)\u001b[0m\n",
      "\u001b[32m2023-04-23 18:18:18.760\u001b[0m | \u001b[1mINFO    \u001b[0m | \u001b[36m__main__\u001b[0m:\u001b[36m<module>\u001b[0m:\u001b[36m79\u001b[0m - \u001b[1msent the backprop data from body to head 9999 skip 1/2/3/4 grad\u001b[0m\n",
      "\u001b[32m2023-04-23 18:18:28.813\u001b[0m | \u001b[1mINFO    \u001b[0m | \u001b[36m__main__\u001b[0m:\u001b[36m<module>\u001b[0m:\u001b[36m24\u001b[0m - \u001b[1mconnected body to get data from head 5151: ('127.0.0.1', 49854)\u001b[0m\n"
     ]
    },
    {
     "name": "stdout",
     "output_type": "stream",
     "text": [
      "Block 5 out -> [4, 128, 7, 7]\n",
      "Block 6 out -> [4, 64, 14, 14]\n",
      "Block 7 out -> [4, 32, 28, 28]\n",
      "Block 8 out -> [4, 16, 56, 56]\n"
     ]
    },
    {
     "name": "stderr",
     "output_type": "stream",
     "text": [
      "\u001b[32m2023-04-23 18:18:34.547\u001b[0m | \u001b[1mINFO    \u001b[0m | \u001b[36m__main__\u001b[0m:\u001b[36m<module>\u001b[0m:\u001b[36m40\u001b[0m - \u001b[1mdisconnected body to get data from head 5151: ('127.0.0.1', 49854)\u001b[0m\n",
      "\u001b[32m2023-04-23 18:18:34.560\u001b[0m | \u001b[1mINFO    \u001b[0m | \u001b[36m__main__\u001b[0m:\u001b[36m<module>\u001b[0m:\u001b[36m48\u001b[0m - \u001b[1msent the data from head to tail 7171 bd_layer_data\u001b[0m\n"
     ]
    },
    {
     "name": "stdout",
     "output_type": "stream",
     "text": [
      "Block 9 out -> [4, 8, 112, 112]\n"
     ]
    },
    {
     "name": "stderr",
     "output_type": "stream",
     "text": [
      "\u001b[32m2023-04-23 18:18:36.906\u001b[0m | \u001b[1mINFO    \u001b[0m | \u001b[36m__main__\u001b[0m:\u001b[36m<module>\u001b[0m:\u001b[36m52\u001b[0m - \u001b[1mconnected body to get data from tail 8181: ('127.0.0.1', 49863)\u001b[0m\n",
      "\u001b[32m2023-04-23 18:18:40.189\u001b[0m | \u001b[1mINFO    \u001b[0m | \u001b[36m__main__\u001b[0m:\u001b[36m<module>\u001b[0m:\u001b[36m69\u001b[0m - \u001b[1mdisconnected body to get data from tail 8181: ('127.0.0.1', 49863)\u001b[0m\n",
      "\u001b[32m2023-04-23 18:18:40.205\u001b[0m | \u001b[1mINFO    \u001b[0m | \u001b[36m__main__\u001b[0m:\u001b[36m<module>\u001b[0m:\u001b[36m79\u001b[0m - \u001b[1msent the backprop data from body to head 9999 skip 1/2/3/4 grad\u001b[0m\n",
      "\u001b[32m2023-04-23 18:18:50.484\u001b[0m | \u001b[1mINFO    \u001b[0m | \u001b[36m__main__\u001b[0m:\u001b[36m<module>\u001b[0m:\u001b[36m24\u001b[0m - \u001b[1mconnected body to get data from head 5151: ('127.0.0.1', 49882)\u001b[0m\n"
     ]
    },
    {
     "name": "stdout",
     "output_type": "stream",
     "text": [
      "Block 5 out -> [4, 128, 7, 7]\n",
      "Block 6 out -> [4, 64, 14, 14]\n",
      "Block 7 out -> [4, 32, 28, 28]\n",
      "Block 8 out -> [4, 16, 56, 56]\n"
     ]
    },
    {
     "name": "stderr",
     "output_type": "stream",
     "text": [
      "\u001b[32m2023-04-23 18:18:56.184\u001b[0m | \u001b[1mINFO    \u001b[0m | \u001b[36m__main__\u001b[0m:\u001b[36m<module>\u001b[0m:\u001b[36m40\u001b[0m - \u001b[1mdisconnected body to get data from head 5151: ('127.0.0.1', 49882)\u001b[0m\n",
      "\u001b[32m2023-04-23 18:18:56.184\u001b[0m | \u001b[1mINFO    \u001b[0m | \u001b[36m__main__\u001b[0m:\u001b[36m<module>\u001b[0m:\u001b[36m48\u001b[0m - \u001b[1msent the data from head to tail 7171 bd_layer_data\u001b[0m\n"
     ]
    },
    {
     "name": "stdout",
     "output_type": "stream",
     "text": [
      "Block 9 out -> [4, 8, 112, 112]\n"
     ]
    },
    {
     "name": "stderr",
     "output_type": "stream",
     "text": [
      "\u001b[32m2023-04-23 18:18:58.607\u001b[0m | \u001b[1mINFO    \u001b[0m | \u001b[36m__main__\u001b[0m:\u001b[36m<module>\u001b[0m:\u001b[36m52\u001b[0m - \u001b[1mconnected body to get data from tail 8181: ('127.0.0.1', 49890)\u001b[0m\n",
      "\u001b[32m2023-04-23 18:19:02.233\u001b[0m | \u001b[1mINFO    \u001b[0m | \u001b[36m__main__\u001b[0m:\u001b[36m<module>\u001b[0m:\u001b[36m69\u001b[0m - \u001b[1mdisconnected body to get data from tail 8181: ('127.0.0.1', 49890)\u001b[0m\n",
      "\u001b[32m2023-04-23 18:19:02.243\u001b[0m | \u001b[1mINFO    \u001b[0m | \u001b[36m__main__\u001b[0m:\u001b[36m<module>\u001b[0m:\u001b[36m79\u001b[0m - \u001b[1msent the backprop data from body to head 9999 skip 1/2/3/4 grad\u001b[0m\n",
      "\u001b[32m2023-04-23 18:19:12.922\u001b[0m | \u001b[1mINFO    \u001b[0m | \u001b[36m__main__\u001b[0m:\u001b[36m<module>\u001b[0m:\u001b[36m24\u001b[0m - \u001b[1mconnected body to get data from head 5151: ('127.0.0.1', 49986)\u001b[0m\n"
     ]
    },
    {
     "name": "stdout",
     "output_type": "stream",
     "text": [
      "Block 5 out -> [4, 128, 7, 7]\n",
      "Block 6 out -> [4, 64, 14, 14]\n",
      "Block 7 out -> [4, 32, 28, 28]\n",
      "Block 8 out -> [4, 16, 56, 56]\n"
     ]
    },
    {
     "name": "stderr",
     "output_type": "stream",
     "text": [
      "\u001b[32m2023-04-23 18:19:18.720\u001b[0m | \u001b[1mINFO    \u001b[0m | \u001b[36m__main__\u001b[0m:\u001b[36m<module>\u001b[0m:\u001b[36m40\u001b[0m - \u001b[1mdisconnected body to get data from head 5151: ('127.0.0.1', 49986)\u001b[0m\n",
      "\u001b[32m2023-04-23 18:19:18.731\u001b[0m | \u001b[1mINFO    \u001b[0m | \u001b[36m__main__\u001b[0m:\u001b[36m<module>\u001b[0m:\u001b[36m48\u001b[0m - \u001b[1msent the data from head to tail 7171 bd_layer_data\u001b[0m\n"
     ]
    },
    {
     "name": "stdout",
     "output_type": "stream",
     "text": [
      "Block 9 out -> [4, 8, 112, 112]\n"
     ]
    },
    {
     "name": "stderr",
     "output_type": "stream",
     "text": [
      "\u001b[32m2023-04-23 18:19:21.021\u001b[0m | \u001b[1mINFO    \u001b[0m | \u001b[36m__main__\u001b[0m:\u001b[36m<module>\u001b[0m:\u001b[36m52\u001b[0m - \u001b[1mconnected body to get data from tail 8181: ('127.0.0.1', 50161)\u001b[0m\n",
      "\u001b[32m2023-04-23 18:19:24.244\u001b[0m | \u001b[1mINFO    \u001b[0m | \u001b[36m__main__\u001b[0m:\u001b[36m<module>\u001b[0m:\u001b[36m69\u001b[0m - \u001b[1mdisconnected body to get data from tail 8181: ('127.0.0.1', 50161)\u001b[0m\n",
      "\u001b[32m2023-04-23 18:19:24.254\u001b[0m | \u001b[1mINFO    \u001b[0m | \u001b[36m__main__\u001b[0m:\u001b[36m<module>\u001b[0m:\u001b[36m79\u001b[0m - \u001b[1msent the backprop data from body to head 9999 skip 1/2/3/4 grad\u001b[0m\n",
      "\u001b[32m2023-04-23 18:19:34.371\u001b[0m | \u001b[1mINFO    \u001b[0m | \u001b[36m__main__\u001b[0m:\u001b[36m<module>\u001b[0m:\u001b[36m24\u001b[0m - \u001b[1mconnected body to get data from head 5151: ('127.0.0.1', 50178)\u001b[0m\n"
     ]
    },
    {
     "name": "stdout",
     "output_type": "stream",
     "text": [
      "Block 5 out -> [4, 128, 7, 7]\n",
      "Block 6 out -> [4, 64, 14, 14]\n",
      "Block 7 out -> [4, 32, 28, 28]\n",
      "Block 8 out -> [4, 16, 56, 56]\n"
     ]
    },
    {
     "name": "stderr",
     "output_type": "stream",
     "text": [
      "\u001b[32m2023-04-23 18:19:40.165\u001b[0m | \u001b[1mINFO    \u001b[0m | \u001b[36m__main__\u001b[0m:\u001b[36m<module>\u001b[0m:\u001b[36m40\u001b[0m - \u001b[1mdisconnected body to get data from head 5151: ('127.0.0.1', 50178)\u001b[0m\n",
      "\u001b[32m2023-04-23 18:19:40.175\u001b[0m | \u001b[1mINFO    \u001b[0m | \u001b[36m__main__\u001b[0m:\u001b[36m<module>\u001b[0m:\u001b[36m48\u001b[0m - \u001b[1msent the data from head to tail 7171 bd_layer_data\u001b[0m\n"
     ]
    },
    {
     "name": "stdout",
     "output_type": "stream",
     "text": [
      "Block 9 out -> [4, 8, 112, 112]\n"
     ]
    },
    {
     "name": "stderr",
     "output_type": "stream",
     "text": [
      "\u001b[32m2023-04-23 18:19:42.457\u001b[0m | \u001b[1mINFO    \u001b[0m | \u001b[36m__main__\u001b[0m:\u001b[36m<module>\u001b[0m:\u001b[36m52\u001b[0m - \u001b[1mconnected body to get data from tail 8181: ('127.0.0.1', 50186)\u001b[0m\n",
      "\u001b[32m2023-04-23 18:19:46.212\u001b[0m | \u001b[1mINFO    \u001b[0m | \u001b[36m__main__\u001b[0m:\u001b[36m<module>\u001b[0m:\u001b[36m69\u001b[0m - \u001b[1mdisconnected body to get data from tail 8181: ('127.0.0.1', 50186)\u001b[0m\n",
      "\u001b[32m2023-04-23 18:19:46.224\u001b[0m | \u001b[1mINFO    \u001b[0m | \u001b[36m__main__\u001b[0m:\u001b[36m<module>\u001b[0m:\u001b[36m79\u001b[0m - \u001b[1msent the backprop data from body to head 9999 skip 1/2/3/4 grad\u001b[0m\n"
     ]
    }
   ],
   "source": [
    "# Forward propagation in body model\n",
    "\n",
    "model_body.train()\n",
    "\n",
    "\n",
    "try:\n",
    "    bd_layer_data = None\n",
    "    skip_1 = None\n",
    "    skip_2 = None\n",
    "    skip_3 = None\n",
    "    skip_4 = None\n",
    "\n",
    "    while True:\n",
    "        # listen for incoming connections\n",
    "        recv_head.listen()\n",
    "        recv_tail.listen()\n",
    "\n",
    "        # wait until either socket is ready to read\n",
    "        read_sockets, _, _ = select.select([recv_head, recv_tail], [], [])\n",
    "        try:\n",
    "            for sock in read_sockets:\n",
    "                if sock == recv_head:\n",
    "                    conn, addr = recv_head.accept()\n",
    "                    logger.info(f\"connected body to get data from head 5151: {addr}\")\n",
    "\n",
    "                    head_fwd_file = conn.recv(1024)\n",
    "\n",
    "                    if len(head_fwd_file) == 0:\n",
    "                        logger.error(\"Frame not available\")\n",
    "                        break\n",
    "\n",
    "                    with h5py.File(head_fwd_file, 'r') as head_fwd:\n",
    "                        skip_1 = torch.tensor(head_fwd['skip1'][:], requires_grad=True).to(device)\n",
    "                        skip_2 = torch.tensor(head_fwd['skip2'][:], requires_grad=True).to(device)\n",
    "                        skip_3 = torch.tensor(head_fwd['skip3'][:], requires_grad=True).to(device)\n",
    "                        skip_4 = torch.tensor(head_fwd['skip4'][:], requires_grad=True).to(device)\n",
    "\n",
    "                    bd_layer_data = model_body(skip_1, skip_2, skip_3, skip_4)\n",
    "\n",
    "                    logger.info(f\"disconnected body to get data from head 5151: {addr}\")\n",
    "\n",
    "                    with h5py.File('params_and_grads/body_forward_pass.hdf5', 'w') as body_fwd:\n",
    "                        for layer, data in bd_layer_data.items():\n",
    "                            body_fwd.create_dataset(layer,  data=data.cpu().detach().numpy())\n",
    "\n",
    "                    send_socket_info(7171, \"params_and_grads/body_forward_pass.hdf5\")\n",
    "\n",
    "                    logger.info(f\"sent the data from head to tail 7171 bd_layer_data\")\n",
    "\n",
    "                if sock == recv_tail:\n",
    "                    conn, addr = recv_tail.accept()\n",
    "                    logger.info(f\"connected body to get data from tail 8181: {addr}\")\n",
    "\n",
    "                    tail_grad_file = conn.recv(1024)\n",
    "\n",
    "                    if len(tail_grad_file) == 0:\n",
    "                        logger.error(\"Frame not available\")\n",
    "                        break\n",
    "                    \n",
    "                    with h5py.File(tail_grad_file, 'r') as grad_tail:\n",
    "                        skip_9_grad = torch.tensor(grad_tail['skip_9_grad'][:])\n",
    "                        bd_layer_data['skip9'].backward(skip_9_grad)\n",
    "\n",
    "                    # skip_1_grad = skip_1.grad\n",
    "                    # skip_2_grad = skip_2.grad\n",
    "                    # skip_3_grad = skip_3.grad\n",
    "                    skip_4_grad = skip_4.grad\n",
    "\n",
    "                    logger.info(f\"disconnected body to get data from tail 8181: {addr}\")\n",
    "\n",
    "                    with h5py.File('params_and_grads/body_back_prop.hdf5', 'w') as body_bkp:\n",
    "                        # body_bkp.create_dataset(\"skip_1_grad\",  data=skip_1_grad.cpu().detach().numpy())\n",
    "                        # body_bkp.create_dataset(\"skip_2_grad\",  data=skip_2_grad.cpu().detach().numpy())\n",
    "                        # body_bkp.create_dataset(\"skip_3_grad\",  data=skip_3_grad.cpu().detach().numpy())\n",
    "                        body_bkp.create_dataset(\"skip_4_grad\",  data=skip_4_grad.cpu().detach().numpy())\n",
    "\n",
    "                    send_socket_info(9191, 'params_and_grads/body_back_prop.hdf5')\n",
    "\n",
    "                    logger.info(f\"sent the backprop data from body to head 9999 skip 1/2/3/4 grad\")\n",
    "\n",
    "        except ConnectionResetError:\n",
    "            logger.error(f\"Connection error issue\")\n",
    "except Exception as e:\n",
    "    import traceback\n",
    "    traceback.print_exc()\n",
    "finally:\n",
    "    pass"
   ]
  }
 ],
 "metadata": {
  "kernelspec": {
   "display_name": "mlenv",
   "language": "python",
   "name": "python3"
  },
  "language_info": {
   "codemirror_mode": {
    "name": "ipython",
    "version": 3
   },
   "file_extension": ".py",
   "mimetype": "text/x-python",
   "name": "python",
   "nbconvert_exporter": "python",
   "pygments_lexer": "ipython3",
   "version": "3.9.13"
  },
  "orig_nbformat": 4
 },
 "nbformat": 4,
 "nbformat_minor": 2
}
