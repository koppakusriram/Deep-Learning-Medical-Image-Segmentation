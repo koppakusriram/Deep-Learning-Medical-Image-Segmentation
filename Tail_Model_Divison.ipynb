{
 "cells": [
  {
   "cell_type": "code",
   "execution_count": 1,
   "metadata": {},
   "outputs": [],
   "source": [
    "import os\n",
    "import sys\n",
    "import random\n",
    "import time\n",
    "import select\n",
    "from pathlib import Path\n",
    "\n",
    "import h5py\n",
    "import numpy as np\n",
    "from tqdm import tqdm\n",
    "\n",
    "\n",
    "import torch\n",
    "import torch.nn as nn\n",
    "import torch.nn.functional as F\n",
    "from torch.nn import BCELoss\n",
    "from monai.losses.dice import GeneralizedDiceLoss\n",
    "from torch.utils.data import DataLoader, TensorDataset\n",
    "from torch.utils.data.dataset import Dataset\n",
    "\n",
    "import socket\n",
    "from loguru import logger\n",
    "\n",
    "from model import dict_args, init_weights, FCT_Tail"
   ]
  },
  {
   "cell_type": "code",
   "execution_count": 2,
   "metadata": {},
   "outputs": [],
   "source": [
    "device = torch.device(\"cpu\")"
   ]
  },
  {
   "cell_type": "code",
   "execution_count": 3,
   "metadata": {},
   "outputs": [],
   "source": [
    "loss_fn = BCELoss()\n",
    "\n",
    "dic_loss_fn = GeneralizedDiceLoss(to_onehot_y=True, softmax=True)"
   ]
  },
  {
   "cell_type": "code",
   "execution_count": 4,
   "metadata": {},
   "outputs": [
    {
     "name": "stdout",
     "output_type": "stream",
     "text": [
      "Initialized ....\n"
     ]
    }
   ],
   "source": [
    "# =======================================================================\n",
    "#                                TAIL\n",
    "# =======================================================================\n",
    "\n",
    "model_tail = FCT_Tail()\n",
    "model_tail.apply(init_weights)\n",
    "\n",
    "optimizer_tail = torch.optim.AdamW(model_tail.parameters(), lr=dict_args['lr'],weight_decay=dict_args['decay'])\n",
    "\n",
    "scheduler_tail = torch.optim.lr_scheduler.ReduceLROnPlateau(\n",
    "            optimizer_tail,\n",
    "            mode='min',\n",
    "            factor=dict_args['lr_factor'],\n",
    "            verbose=True,\n",
    "            threshold=1e-6,\n",
    "            patience=10,\n",
    "            min_lr=dict_args['min_lr'])\n",
    "\n",
    "model_tail.to(device)\n",
    "\n",
    "print(\"Initialized ....\")"
   ]
  },
  {
   "cell_type": "code",
   "execution_count": 5,
   "metadata": {},
   "outputs": [],
   "source": [
    "def send_socket_info(port=6161, message_data=None):\n",
    "    import socket\n",
    "    with socket.socket(socket.AF_INET, socket.SOCK_STREAM) as s:\n",
    "        s.connect(('127.0.0.1', port))\n",
    "        if message_data is  None:\n",
    "            raise ValueError(f\"Message that is being sent to port {port} is empty\")\n",
    "        s.send(message_data.encode('UTF-8'))"
   ]
  },
  {
   "cell_type": "code",
   "execution_count": 6,
   "metadata": {},
   "outputs": [],
   "source": [
    "recv_head_y = socket.socket(socket.AF_INET, socket.SOCK_STREAM)\n",
    "recv_head_y.bind(('127.0.0.1', 6161))\n",
    "\n",
    "\n",
    "recv_body_f = socket.socket(socket.AF_INET, socket.SOCK_STREAM)\n",
    "recv_body_f.bind(('127.0.0.1', 7171))"
   ]
  },
  {
   "cell_type": "code",
   "execution_count": 7,
   "metadata": {},
   "outputs": [
    {
     "name": "stderr",
     "output_type": "stream",
     "text": [
      "\u001b[32m2023-04-23 18:10:44.257\u001b[0m | \u001b[1mINFO    \u001b[0m | \u001b[36m__main__\u001b[0m:\u001b[36m<module>\u001b[0m:\u001b[36m24\u001b[0m - \u001b[1m The read socket has total ready sockets of 0\u001b[0m\n",
      "\u001b[32m2023-04-23 18:10:44.259\u001b[0m | \u001b[34m\u001b[1mDEBUG   \u001b[0m | \u001b[36m__main__\u001b[0m:\u001b[36m<module>\u001b[0m:\u001b[36m30\u001b[0m - \u001b[34m\u001b[1mstarting at position 1\u001b[0m\n",
      "\u001b[32m2023-04-23 18:10:53.310\u001b[0m | \u001b[34m\u001b[1mDEBUG   \u001b[0m | \u001b[36m__main__\u001b[0m:\u001b[36m<module>\u001b[0m:\u001b[36m36\u001b[0m - \u001b[34m\u001b[1mSocket Y label is ready\u001b[0m\n",
      "\u001b[32m2023-04-23 18:10:53.313\u001b[0m | \u001b[1mINFO    \u001b[0m | \u001b[36m__main__\u001b[0m:\u001b[36m<module>\u001b[0m:\u001b[36m38\u001b[0m - \u001b[1mconnected tail to get data on label from head 6666: ('127.0.0.1', 65519)\u001b[0m\n",
      "\u001b[32m2023-04-23 18:10:53.321\u001b[0m | \u001b[1mINFO    \u001b[0m | \u001b[36m__main__\u001b[0m:\u001b[36m<module>\u001b[0m:\u001b[36m49\u001b[0m - \u001b[1mFetched the label data from head.\u001b[0m\n",
      "\u001b[32m2023-04-23 18:11:01.328\u001b[0m | \u001b[34m\u001b[1mDEBUG   \u001b[0m | \u001b[36m__main__\u001b[0m:\u001b[36m<module>\u001b[0m:\u001b[36m55\u001b[0m - \u001b[34m\u001b[1mSocket Body data is ready\u001b[0m\n",
      "\u001b[32m2023-04-23 18:11:01.331\u001b[0m | \u001b[1mINFO    \u001b[0m | \u001b[36m__main__\u001b[0m:\u001b[36m<module>\u001b[0m:\u001b[36m57\u001b[0m - \u001b[1mconnected tail to get data on layer data from body 7171: ('127.0.0.1', 65524)\u001b[0m\n",
      "\u001b[32m2023-04-23 18:11:01.336\u001b[0m | \u001b[1mINFO    \u001b[0m | \u001b[36m__main__\u001b[0m:\u001b[36m<module>\u001b[0m:\u001b[36m68\u001b[0m - \u001b[1mFetched the label data from head.\u001b[0m\n",
      "\u001b[32m2023-04-23 18:11:01.462\u001b[0m | \u001b[1mINFO    \u001b[0m | \u001b[36m__main__\u001b[0m:\u001b[36m<module>\u001b[0m:\u001b[36m92\u001b[0m - \u001b[1msent the backprop data from tail to body 8181 torch.Size([4, 8, 112, 112])\u001b[0m\n",
      "\u001b[32m2023-04-23 18:11:01.464\u001b[0m | \u001b[1mINFO    \u001b[0m | \u001b[36m__main__\u001b[0m:\u001b[36m<module>\u001b[0m:\u001b[36m24\u001b[0m - \u001b[1m The read socket has total ready sockets of 0\u001b[0m\n",
      "\u001b[32m2023-04-23 18:11:01.465\u001b[0m | \u001b[34m\u001b[1mDEBUG   \u001b[0m | \u001b[36m__main__\u001b[0m:\u001b[36m<module>\u001b[0m:\u001b[36m30\u001b[0m - \u001b[34m\u001b[1mstarting at position 1\u001b[0m\n"
     ]
    },
    {
     "name": "stdout",
     "output_type": "stream",
     "text": [
      "DS 10 out -> [4, 1, 224, 224]\n"
     ]
    },
    {
     "name": "stderr",
     "output_type": "stream",
     "text": [
      "\u001b[32m2023-04-23 18:11:24.295\u001b[0m | \u001b[34m\u001b[1mDEBUG   \u001b[0m | \u001b[36m__main__\u001b[0m:\u001b[36m<module>\u001b[0m:\u001b[36m36\u001b[0m - \u001b[34m\u001b[1mSocket Y label is ready\u001b[0m\n",
      "\u001b[32m2023-04-23 18:11:24.303\u001b[0m | \u001b[1mINFO    \u001b[0m | \u001b[36m__main__\u001b[0m:\u001b[36m<module>\u001b[0m:\u001b[36m38\u001b[0m - \u001b[1mconnected tail to get data on label from head 6666: ('127.0.0.1', 49152)\u001b[0m\n",
      "\u001b[32m2023-04-23 18:11:24.312\u001b[0m | \u001b[1mINFO    \u001b[0m | \u001b[36m__main__\u001b[0m:\u001b[36m<module>\u001b[0m:\u001b[36m49\u001b[0m - \u001b[1mFetched the label data from head.\u001b[0m\n",
      "\u001b[32m2023-04-23 18:11:32.324\u001b[0m | \u001b[34m\u001b[1mDEBUG   \u001b[0m | \u001b[36m__main__\u001b[0m:\u001b[36m<module>\u001b[0m:\u001b[36m55\u001b[0m - \u001b[34m\u001b[1mSocket Body data is ready\u001b[0m\n",
      "\u001b[32m2023-04-23 18:11:32.326\u001b[0m | \u001b[1mINFO    \u001b[0m | \u001b[36m__main__\u001b[0m:\u001b[36m<module>\u001b[0m:\u001b[36m57\u001b[0m - \u001b[1mconnected tail to get data on layer data from body 7171: ('127.0.0.1', 49160)\u001b[0m\n",
      "\u001b[32m2023-04-23 18:11:32.330\u001b[0m | \u001b[1mINFO    \u001b[0m | \u001b[36m__main__\u001b[0m:\u001b[36m<module>\u001b[0m:\u001b[36m68\u001b[0m - \u001b[1mFetched the label data from head.\u001b[0m\n",
      "\u001b[32m2023-04-23 18:11:32.421\u001b[0m | \u001b[1mINFO    \u001b[0m | \u001b[36m__main__\u001b[0m:\u001b[36m<module>\u001b[0m:\u001b[36m92\u001b[0m - \u001b[1msent the backprop data from tail to body 8181 torch.Size([4, 8, 112, 112])\u001b[0m\n",
      "\u001b[32m2023-04-23 18:11:32.422\u001b[0m | \u001b[1mINFO    \u001b[0m | \u001b[36m__main__\u001b[0m:\u001b[36m<module>\u001b[0m:\u001b[36m24\u001b[0m - \u001b[1m The read socket has total ready sockets of 0\u001b[0m\n",
      "\u001b[32m2023-04-23 18:11:32.423\u001b[0m | \u001b[34m\u001b[1mDEBUG   \u001b[0m | \u001b[36m__main__\u001b[0m:\u001b[36m<module>\u001b[0m:\u001b[36m30\u001b[0m - \u001b[34m\u001b[1mstarting at position 1\u001b[0m\n"
     ]
    },
    {
     "name": "stdout",
     "output_type": "stream",
     "text": [
      "DS 10 out -> [4, 1, 224, 224]\n"
     ]
    },
    {
     "name": "stderr",
     "output_type": "stream",
     "text": [
      "\u001b[32m2023-04-23 18:11:48.117\u001b[0m | \u001b[34m\u001b[1mDEBUG   \u001b[0m | \u001b[36m__main__\u001b[0m:\u001b[36m<module>\u001b[0m:\u001b[36m36\u001b[0m - \u001b[34m\u001b[1mSocket Y label is ready\u001b[0m\n",
      "\u001b[32m2023-04-23 18:11:48.120\u001b[0m | \u001b[1mINFO    \u001b[0m | \u001b[36m__main__\u001b[0m:\u001b[36m<module>\u001b[0m:\u001b[36m38\u001b[0m - \u001b[1mconnected tail to get data on label from head 6666: ('127.0.0.1', 49172)\u001b[0m\n",
      "\u001b[32m2023-04-23 18:11:48.125\u001b[0m | \u001b[1mINFO    \u001b[0m | \u001b[36m__main__\u001b[0m:\u001b[36m<module>\u001b[0m:\u001b[36m49\u001b[0m - \u001b[1mFetched the label data from head.\u001b[0m\n",
      "\u001b[32m2023-04-23 18:11:56.132\u001b[0m | \u001b[34m\u001b[1mDEBUG   \u001b[0m | \u001b[36m__main__\u001b[0m:\u001b[36m<module>\u001b[0m:\u001b[36m55\u001b[0m - \u001b[34m\u001b[1mSocket Body data is ready\u001b[0m\n",
      "\u001b[32m2023-04-23 18:11:56.135\u001b[0m | \u001b[1mINFO    \u001b[0m | \u001b[36m__main__\u001b[0m:\u001b[36m<module>\u001b[0m:\u001b[36m57\u001b[0m - \u001b[1mconnected tail to get data on layer data from body 7171: ('127.0.0.1', 49182)\u001b[0m\n",
      "\u001b[32m2023-04-23 18:11:56.140\u001b[0m | \u001b[1mINFO    \u001b[0m | \u001b[36m__main__\u001b[0m:\u001b[36m<module>\u001b[0m:\u001b[36m68\u001b[0m - \u001b[1mFetched the label data from head.\u001b[0m\n",
      "\u001b[32m2023-04-23 18:11:56.214\u001b[0m | \u001b[1mINFO    \u001b[0m | \u001b[36m__main__\u001b[0m:\u001b[36m<module>\u001b[0m:\u001b[36m92\u001b[0m - \u001b[1msent the backprop data from tail to body 8181 torch.Size([4, 8, 112, 112])\u001b[0m\n",
      "\u001b[32m2023-04-23 18:11:56.215\u001b[0m | \u001b[1mINFO    \u001b[0m | \u001b[36m__main__\u001b[0m:\u001b[36m<module>\u001b[0m:\u001b[36m24\u001b[0m - \u001b[1m The read socket has total ready sockets of 0\u001b[0m\n",
      "\u001b[32m2023-04-23 18:11:56.217\u001b[0m | \u001b[34m\u001b[1mDEBUG   \u001b[0m | \u001b[36m__main__\u001b[0m:\u001b[36m<module>\u001b[0m:\u001b[36m30\u001b[0m - \u001b[34m\u001b[1mstarting at position 1\u001b[0m\n"
     ]
    },
    {
     "name": "stdout",
     "output_type": "stream",
     "text": [
      "DS 10 out -> [4, 1, 224, 224]\n"
     ]
    },
    {
     "name": "stderr",
     "output_type": "stream",
     "text": [
      "\u001b[32m2023-04-23 18:12:11.915\u001b[0m | \u001b[34m\u001b[1mDEBUG   \u001b[0m | \u001b[36m__main__\u001b[0m:\u001b[36m<module>\u001b[0m:\u001b[36m36\u001b[0m - \u001b[34m\u001b[1mSocket Y label is ready\u001b[0m\n",
      "\u001b[32m2023-04-23 18:12:11.918\u001b[0m | \u001b[1mINFO    \u001b[0m | \u001b[36m__main__\u001b[0m:\u001b[36m<module>\u001b[0m:\u001b[36m38\u001b[0m - \u001b[1mconnected tail to get data on label from head 6666: ('127.0.0.1', 49190)\u001b[0m\n",
      "\u001b[32m2023-04-23 18:12:11.924\u001b[0m | \u001b[1mINFO    \u001b[0m | \u001b[36m__main__\u001b[0m:\u001b[36m<module>\u001b[0m:\u001b[36m49\u001b[0m - \u001b[1mFetched the label data from head.\u001b[0m\n",
      "\u001b[32m2023-04-23 18:12:19.940\u001b[0m | \u001b[34m\u001b[1mDEBUG   \u001b[0m | \u001b[36m__main__\u001b[0m:\u001b[36m<module>\u001b[0m:\u001b[36m55\u001b[0m - \u001b[34m\u001b[1mSocket Body data is ready\u001b[0m\n",
      "\u001b[32m2023-04-23 18:12:19.943\u001b[0m | \u001b[1mINFO    \u001b[0m | \u001b[36m__main__\u001b[0m:\u001b[36m<module>\u001b[0m:\u001b[36m57\u001b[0m - \u001b[1mconnected tail to get data on layer data from body 7171: ('127.0.0.1', 49197)\u001b[0m\n",
      "\u001b[32m2023-04-23 18:12:19.947\u001b[0m | \u001b[1mINFO    \u001b[0m | \u001b[36m__main__\u001b[0m:\u001b[36m<module>\u001b[0m:\u001b[36m68\u001b[0m - \u001b[1mFetched the label data from head.\u001b[0m\n",
      "\u001b[32m2023-04-23 18:12:20.045\u001b[0m | \u001b[1mINFO    \u001b[0m | \u001b[36m__main__\u001b[0m:\u001b[36m<module>\u001b[0m:\u001b[36m92\u001b[0m - \u001b[1msent the backprop data from tail to body 8181 torch.Size([4, 8, 112, 112])\u001b[0m\n",
      "\u001b[32m2023-04-23 18:12:20.047\u001b[0m | \u001b[1mINFO    \u001b[0m | \u001b[36m__main__\u001b[0m:\u001b[36m<module>\u001b[0m:\u001b[36m24\u001b[0m - \u001b[1m The read socket has total ready sockets of 0\u001b[0m\n",
      "\u001b[32m2023-04-23 18:12:20.047\u001b[0m | \u001b[34m\u001b[1mDEBUG   \u001b[0m | \u001b[36m__main__\u001b[0m:\u001b[36m<module>\u001b[0m:\u001b[36m30\u001b[0m - \u001b[34m\u001b[1mstarting at position 1\u001b[0m\n"
     ]
    },
    {
     "name": "stdout",
     "output_type": "stream",
     "text": [
      "DS 10 out -> [4, 1, 224, 224]\n"
     ]
    },
    {
     "name": "stderr",
     "output_type": "stream",
     "text": [
      "\u001b[32m2023-04-23 18:12:36.194\u001b[0m | \u001b[34m\u001b[1mDEBUG   \u001b[0m | \u001b[36m__main__\u001b[0m:\u001b[36m<module>\u001b[0m:\u001b[36m36\u001b[0m - \u001b[34m\u001b[1mSocket Y label is ready\u001b[0m\n",
      "\u001b[32m2023-04-23 18:12:36.198\u001b[0m | \u001b[1mINFO    \u001b[0m | \u001b[36m__main__\u001b[0m:\u001b[36m<module>\u001b[0m:\u001b[36m38\u001b[0m - \u001b[1mconnected tail to get data on label from head 6666: ('127.0.0.1', 49217)\u001b[0m\n",
      "\u001b[32m2023-04-23 18:12:36.202\u001b[0m | \u001b[1mINFO    \u001b[0m | \u001b[36m__main__\u001b[0m:\u001b[36m<module>\u001b[0m:\u001b[36m49\u001b[0m - \u001b[1mFetched the label data from head.\u001b[0m\n",
      "\u001b[32m2023-04-23 18:12:44.210\u001b[0m | \u001b[34m\u001b[1mDEBUG   \u001b[0m | \u001b[36m__main__\u001b[0m:\u001b[36m<module>\u001b[0m:\u001b[36m55\u001b[0m - \u001b[34m\u001b[1mSocket Body data is ready\u001b[0m\n",
      "\u001b[32m2023-04-23 18:12:44.214\u001b[0m | \u001b[1mINFO    \u001b[0m | \u001b[36m__main__\u001b[0m:\u001b[36m<module>\u001b[0m:\u001b[36m57\u001b[0m - \u001b[1mconnected tail to get data on layer data from body 7171: ('127.0.0.1', 49219)\u001b[0m\n",
      "\u001b[32m2023-04-23 18:12:44.218\u001b[0m | \u001b[1mINFO    \u001b[0m | \u001b[36m__main__\u001b[0m:\u001b[36m<module>\u001b[0m:\u001b[36m68\u001b[0m - \u001b[1mFetched the label data from head.\u001b[0m\n",
      "\u001b[32m2023-04-23 18:12:44.296\u001b[0m | \u001b[1mINFO    \u001b[0m | \u001b[36m__main__\u001b[0m:\u001b[36m<module>\u001b[0m:\u001b[36m92\u001b[0m - \u001b[1msent the backprop data from tail to body 8181 torch.Size([4, 8, 112, 112])\u001b[0m\n",
      "\u001b[32m2023-04-23 18:12:44.298\u001b[0m | \u001b[1mINFO    \u001b[0m | \u001b[36m__main__\u001b[0m:\u001b[36m<module>\u001b[0m:\u001b[36m24\u001b[0m - \u001b[1m The read socket has total ready sockets of 0\u001b[0m\n",
      "\u001b[32m2023-04-23 18:12:44.299\u001b[0m | \u001b[34m\u001b[1mDEBUG   \u001b[0m | \u001b[36m__main__\u001b[0m:\u001b[36m<module>\u001b[0m:\u001b[36m30\u001b[0m - \u001b[34m\u001b[1mstarting at position 1\u001b[0m\n"
     ]
    },
    {
     "name": "stdout",
     "output_type": "stream",
     "text": [
      "DS 10 out -> [4, 1, 224, 224]\n"
     ]
    },
    {
     "name": "stderr",
     "output_type": "stream",
     "text": [
      "\u001b[32m2023-04-23 18:12:58.202\u001b[0m | \u001b[34m\u001b[1mDEBUG   \u001b[0m | \u001b[36m__main__\u001b[0m:\u001b[36m<module>\u001b[0m:\u001b[36m36\u001b[0m - \u001b[34m\u001b[1mSocket Y label is ready\u001b[0m\n",
      "\u001b[32m2023-04-23 18:12:58.206\u001b[0m | \u001b[1mINFO    \u001b[0m | \u001b[36m__main__\u001b[0m:\u001b[36m<module>\u001b[0m:\u001b[36m38\u001b[0m - \u001b[1mconnected tail to get data on label from head 6666: ('127.0.0.1', 49232)\u001b[0m\n",
      "\u001b[32m2023-04-23 18:12:58.210\u001b[0m | \u001b[1mINFO    \u001b[0m | \u001b[36m__main__\u001b[0m:\u001b[36m<module>\u001b[0m:\u001b[36m49\u001b[0m - \u001b[1mFetched the label data from head.\u001b[0m\n",
      "\u001b[32m2023-04-23 18:13:06.220\u001b[0m | \u001b[34m\u001b[1mDEBUG   \u001b[0m | \u001b[36m__main__\u001b[0m:\u001b[36m<module>\u001b[0m:\u001b[36m55\u001b[0m - \u001b[34m\u001b[1mSocket Body data is ready\u001b[0m\n",
      "\u001b[32m2023-04-23 18:13:06.225\u001b[0m | \u001b[1mINFO    \u001b[0m | \u001b[36m__main__\u001b[0m:\u001b[36m<module>\u001b[0m:\u001b[36m57\u001b[0m - \u001b[1mconnected tail to get data on layer data from body 7171: ('127.0.0.1', 49233)\u001b[0m\n",
      "\u001b[32m2023-04-23 18:13:06.229\u001b[0m | \u001b[1mINFO    \u001b[0m | \u001b[36m__main__\u001b[0m:\u001b[36m<module>\u001b[0m:\u001b[36m68\u001b[0m - \u001b[1mFetched the label data from head.\u001b[0m\n",
      "\u001b[32m2023-04-23 18:13:06.347\u001b[0m | \u001b[1mINFO    \u001b[0m | \u001b[36m__main__\u001b[0m:\u001b[36m<module>\u001b[0m:\u001b[36m92\u001b[0m - \u001b[1msent the backprop data from tail to body 8181 torch.Size([4, 8, 112, 112])\u001b[0m\n",
      "\u001b[32m2023-04-23 18:13:06.348\u001b[0m | \u001b[1mINFO    \u001b[0m | \u001b[36m__main__\u001b[0m:\u001b[36m<module>\u001b[0m:\u001b[36m24\u001b[0m - \u001b[1m The read socket has total ready sockets of 0\u001b[0m\n",
      "\u001b[32m2023-04-23 18:13:06.348\u001b[0m | \u001b[34m\u001b[1mDEBUG   \u001b[0m | \u001b[36m__main__\u001b[0m:\u001b[36m<module>\u001b[0m:\u001b[36m30\u001b[0m - \u001b[34m\u001b[1mstarting at position 1\u001b[0m\n"
     ]
    },
    {
     "name": "stdout",
     "output_type": "stream",
     "text": [
      "DS 10 out -> [4, 1, 224, 224]\n"
     ]
    },
    {
     "name": "stderr",
     "output_type": "stream",
     "text": [
      "\u001b[32m2023-04-23 18:13:20.150\u001b[0m | \u001b[34m\u001b[1mDEBUG   \u001b[0m | \u001b[36m__main__\u001b[0m:\u001b[36m<module>\u001b[0m:\u001b[36m36\u001b[0m - \u001b[34m\u001b[1mSocket Y label is ready\u001b[0m\n",
      "\u001b[32m2023-04-23 18:13:20.153\u001b[0m | \u001b[1mINFO    \u001b[0m | \u001b[36m__main__\u001b[0m:\u001b[36m<module>\u001b[0m:\u001b[36m38\u001b[0m - \u001b[1mconnected tail to get data on label from head 6666: ('127.0.0.1', 49248)\u001b[0m\n",
      "\u001b[32m2023-04-23 18:13:20.157\u001b[0m | \u001b[1mINFO    \u001b[0m | \u001b[36m__main__\u001b[0m:\u001b[36m<module>\u001b[0m:\u001b[36m49\u001b[0m - \u001b[1mFetched the label data from head.\u001b[0m\n",
      "\u001b[32m2023-04-23 18:13:28.174\u001b[0m | \u001b[34m\u001b[1mDEBUG   \u001b[0m | \u001b[36m__main__\u001b[0m:\u001b[36m<module>\u001b[0m:\u001b[36m55\u001b[0m - \u001b[34m\u001b[1mSocket Body data is ready\u001b[0m\n",
      "\u001b[32m2023-04-23 18:13:28.177\u001b[0m | \u001b[1mINFO    \u001b[0m | \u001b[36m__main__\u001b[0m:\u001b[36m<module>\u001b[0m:\u001b[36m57\u001b[0m - \u001b[1mconnected tail to get data on layer data from body 7171: ('127.0.0.1', 49258)\u001b[0m\n",
      "\u001b[32m2023-04-23 18:13:28.181\u001b[0m | \u001b[1mINFO    \u001b[0m | \u001b[36m__main__\u001b[0m:\u001b[36m<module>\u001b[0m:\u001b[36m68\u001b[0m - \u001b[1mFetched the label data from head.\u001b[0m\n",
      "\u001b[32m2023-04-23 18:13:28.259\u001b[0m | \u001b[1mINFO    \u001b[0m | \u001b[36m__main__\u001b[0m:\u001b[36m<module>\u001b[0m:\u001b[36m92\u001b[0m - \u001b[1msent the backprop data from tail to body 8181 torch.Size([4, 8, 112, 112])\u001b[0m\n",
      "\u001b[32m2023-04-23 18:13:28.260\u001b[0m | \u001b[1mINFO    \u001b[0m | \u001b[36m__main__\u001b[0m:\u001b[36m<module>\u001b[0m:\u001b[36m24\u001b[0m - \u001b[1m The read socket has total ready sockets of 0\u001b[0m\n",
      "\u001b[32m2023-04-23 18:13:28.261\u001b[0m | \u001b[34m\u001b[1mDEBUG   \u001b[0m | \u001b[36m__main__\u001b[0m:\u001b[36m<module>\u001b[0m:\u001b[36m30\u001b[0m - \u001b[34m\u001b[1mstarting at position 1\u001b[0m\n"
     ]
    },
    {
     "name": "stdout",
     "output_type": "stream",
     "text": [
      "DS 10 out -> [4, 1, 224, 224]\n"
     ]
    },
    {
     "name": "stderr",
     "output_type": "stream",
     "text": [
      "\u001b[32m2023-04-23 18:13:42.881\u001b[0m | \u001b[34m\u001b[1mDEBUG   \u001b[0m | \u001b[36m__main__\u001b[0m:\u001b[36m<module>\u001b[0m:\u001b[36m36\u001b[0m - \u001b[34m\u001b[1mSocket Y label is ready\u001b[0m\n",
      "\u001b[32m2023-04-23 18:13:42.883\u001b[0m | \u001b[1mINFO    \u001b[0m | \u001b[36m__main__\u001b[0m:\u001b[36m<module>\u001b[0m:\u001b[36m38\u001b[0m - \u001b[1mconnected tail to get data on label from head 6666: ('127.0.0.1', 49269)\u001b[0m\n",
      "\u001b[32m2023-04-23 18:13:42.887\u001b[0m | \u001b[1mINFO    \u001b[0m | \u001b[36m__main__\u001b[0m:\u001b[36m<module>\u001b[0m:\u001b[36m49\u001b[0m - \u001b[1mFetched the label data from head.\u001b[0m\n",
      "\u001b[32m2023-04-23 18:13:50.901\u001b[0m | \u001b[34m\u001b[1mDEBUG   \u001b[0m | \u001b[36m__main__\u001b[0m:\u001b[36m<module>\u001b[0m:\u001b[36m55\u001b[0m - \u001b[34m\u001b[1mSocket Body data is ready\u001b[0m\n",
      "\u001b[32m2023-04-23 18:13:50.904\u001b[0m | \u001b[1mINFO    \u001b[0m | \u001b[36m__main__\u001b[0m:\u001b[36m<module>\u001b[0m:\u001b[36m57\u001b[0m - \u001b[1mconnected tail to get data on layer data from body 7171: ('127.0.0.1', 49279)\u001b[0m\n",
      "\u001b[32m2023-04-23 18:13:50.908\u001b[0m | \u001b[1mINFO    \u001b[0m | \u001b[36m__main__\u001b[0m:\u001b[36m<module>\u001b[0m:\u001b[36m68\u001b[0m - \u001b[1mFetched the label data from head.\u001b[0m\n",
      "\u001b[32m2023-04-23 18:13:50.996\u001b[0m | \u001b[1mINFO    \u001b[0m | \u001b[36m__main__\u001b[0m:\u001b[36m<module>\u001b[0m:\u001b[36m92\u001b[0m - \u001b[1msent the backprop data from tail to body 8181 torch.Size([4, 8, 112, 112])\u001b[0m\n",
      "\u001b[32m2023-04-23 18:13:50.998\u001b[0m | \u001b[1mINFO    \u001b[0m | \u001b[36m__main__\u001b[0m:\u001b[36m<module>\u001b[0m:\u001b[36m24\u001b[0m - \u001b[1m The read socket has total ready sockets of 0\u001b[0m\n",
      "\u001b[32m2023-04-23 18:13:50.998\u001b[0m | \u001b[34m\u001b[1mDEBUG   \u001b[0m | \u001b[36m__main__\u001b[0m:\u001b[36m<module>\u001b[0m:\u001b[36m30\u001b[0m - \u001b[34m\u001b[1mstarting at position 1\u001b[0m\n"
     ]
    },
    {
     "name": "stdout",
     "output_type": "stream",
     "text": [
      "DS 10 out -> [4, 1, 224, 224]\n"
     ]
    },
    {
     "name": "stderr",
     "output_type": "stream",
     "text": [
      "\u001b[32m2023-04-23 18:14:05.941\u001b[0m | \u001b[34m\u001b[1mDEBUG   \u001b[0m | \u001b[36m__main__\u001b[0m:\u001b[36m<module>\u001b[0m:\u001b[36m36\u001b[0m - \u001b[34m\u001b[1mSocket Y label is ready\u001b[0m\n",
      "\u001b[32m2023-04-23 18:14:05.942\u001b[0m | \u001b[1mINFO    \u001b[0m | \u001b[36m__main__\u001b[0m:\u001b[36m<module>\u001b[0m:\u001b[36m38\u001b[0m - \u001b[1mconnected tail to get data on label from head 6666: ('127.0.0.1', 49287)\u001b[0m\n",
      "\u001b[32m2023-04-23 18:14:05.947\u001b[0m | \u001b[1mINFO    \u001b[0m | \u001b[36m__main__\u001b[0m:\u001b[36m<module>\u001b[0m:\u001b[36m49\u001b[0m - \u001b[1mFetched the label data from head.\u001b[0m\n",
      "\u001b[32m2023-04-23 18:14:13.962\u001b[0m | \u001b[34m\u001b[1mDEBUG   \u001b[0m | \u001b[36m__main__\u001b[0m:\u001b[36m<module>\u001b[0m:\u001b[36m55\u001b[0m - \u001b[34m\u001b[1mSocket Body data is ready\u001b[0m\n",
      "\u001b[32m2023-04-23 18:14:13.965\u001b[0m | \u001b[1mINFO    \u001b[0m | \u001b[36m__main__\u001b[0m:\u001b[36m<module>\u001b[0m:\u001b[36m57\u001b[0m - \u001b[1mconnected tail to get data on layer data from body 7171: ('127.0.0.1', 49290)\u001b[0m\n",
      "\u001b[32m2023-04-23 18:14:13.969\u001b[0m | \u001b[1mINFO    \u001b[0m | \u001b[36m__main__\u001b[0m:\u001b[36m<module>\u001b[0m:\u001b[36m68\u001b[0m - \u001b[1mFetched the label data from head.\u001b[0m\n",
      "\u001b[32m2023-04-23 18:14:14.047\u001b[0m | \u001b[1mINFO    \u001b[0m | \u001b[36m__main__\u001b[0m:\u001b[36m<module>\u001b[0m:\u001b[36m92\u001b[0m - \u001b[1msent the backprop data from tail to body 8181 torch.Size([4, 8, 112, 112])\u001b[0m\n",
      "\u001b[32m2023-04-23 18:14:14.048\u001b[0m | \u001b[1mINFO    \u001b[0m | \u001b[36m__main__\u001b[0m:\u001b[36m<module>\u001b[0m:\u001b[36m24\u001b[0m - \u001b[1m The read socket has total ready sockets of 0\u001b[0m\n",
      "\u001b[32m2023-04-23 18:14:14.049\u001b[0m | \u001b[34m\u001b[1mDEBUG   \u001b[0m | \u001b[36m__main__\u001b[0m:\u001b[36m<module>\u001b[0m:\u001b[36m30\u001b[0m - \u001b[34m\u001b[1mstarting at position 1\u001b[0m\n"
     ]
    },
    {
     "name": "stdout",
     "output_type": "stream",
     "text": [
      "DS 10 out -> [4, 1, 224, 224]\n"
     ]
    },
    {
     "name": "stderr",
     "output_type": "stream",
     "text": [
      "\u001b[32m2023-04-23 18:14:27.453\u001b[0m | \u001b[34m\u001b[1mDEBUG   \u001b[0m | \u001b[36m__main__\u001b[0m:\u001b[36m<module>\u001b[0m:\u001b[36m36\u001b[0m - \u001b[34m\u001b[1mSocket Y label is ready\u001b[0m\n",
      "\u001b[32m2023-04-23 18:14:27.455\u001b[0m | \u001b[1mINFO    \u001b[0m | \u001b[36m__main__\u001b[0m:\u001b[36m<module>\u001b[0m:\u001b[36m38\u001b[0m - \u001b[1mconnected tail to get data on label from head 6666: ('127.0.0.1', 49301)\u001b[0m\n",
      "\u001b[32m2023-04-23 18:14:27.459\u001b[0m | \u001b[1mINFO    \u001b[0m | \u001b[36m__main__\u001b[0m:\u001b[36m<module>\u001b[0m:\u001b[36m49\u001b[0m - \u001b[1mFetched the label data from head.\u001b[0m\n",
      "\u001b[32m2023-04-23 18:14:35.470\u001b[0m | \u001b[34m\u001b[1mDEBUG   \u001b[0m | \u001b[36m__main__\u001b[0m:\u001b[36m<module>\u001b[0m:\u001b[36m55\u001b[0m - \u001b[34m\u001b[1mSocket Body data is ready\u001b[0m\n",
      "\u001b[32m2023-04-23 18:14:35.473\u001b[0m | \u001b[1mINFO    \u001b[0m | \u001b[36m__main__\u001b[0m:\u001b[36m<module>\u001b[0m:\u001b[36m57\u001b[0m - \u001b[1mconnected tail to get data on layer data from body 7171: ('127.0.0.1', 49303)\u001b[0m\n",
      "\u001b[32m2023-04-23 18:14:35.477\u001b[0m | \u001b[1mINFO    \u001b[0m | \u001b[36m__main__\u001b[0m:\u001b[36m<module>\u001b[0m:\u001b[36m68\u001b[0m - \u001b[1mFetched the label data from head.\u001b[0m\n",
      "\u001b[32m2023-04-23 18:14:35.559\u001b[0m | \u001b[1mINFO    \u001b[0m | \u001b[36m__main__\u001b[0m:\u001b[36m<module>\u001b[0m:\u001b[36m92\u001b[0m - \u001b[1msent the backprop data from tail to body 8181 torch.Size([4, 8, 112, 112])\u001b[0m\n",
      "\u001b[32m2023-04-23 18:14:35.560\u001b[0m | \u001b[1mINFO    \u001b[0m | \u001b[36m__main__\u001b[0m:\u001b[36m<module>\u001b[0m:\u001b[36m24\u001b[0m - \u001b[1m The read socket has total ready sockets of 0\u001b[0m\n",
      "\u001b[32m2023-04-23 18:14:35.561\u001b[0m | \u001b[34m\u001b[1mDEBUG   \u001b[0m | \u001b[36m__main__\u001b[0m:\u001b[36m<module>\u001b[0m:\u001b[36m30\u001b[0m - \u001b[34m\u001b[1mstarting at position 1\u001b[0m\n"
     ]
    },
    {
     "name": "stdout",
     "output_type": "stream",
     "text": [
      "DS 10 out -> [4, 1, 224, 224]\n"
     ]
    },
    {
     "name": "stderr",
     "output_type": "stream",
     "text": [
      "\u001b[32m2023-04-23 18:14:50.757\u001b[0m | \u001b[34m\u001b[1mDEBUG   \u001b[0m | \u001b[36m__main__\u001b[0m:\u001b[36m<module>\u001b[0m:\u001b[36m36\u001b[0m - \u001b[34m\u001b[1mSocket Y label is ready\u001b[0m\n",
      "\u001b[32m2023-04-23 18:14:50.760\u001b[0m | \u001b[1mINFO    \u001b[0m | \u001b[36m__main__\u001b[0m:\u001b[36m<module>\u001b[0m:\u001b[36m38\u001b[0m - \u001b[1mconnected tail to get data on label from head 6666: ('127.0.0.1', 49317)\u001b[0m\n",
      "\u001b[32m2023-04-23 18:14:50.764\u001b[0m | \u001b[1mINFO    \u001b[0m | \u001b[36m__main__\u001b[0m:\u001b[36m<module>\u001b[0m:\u001b[36m49\u001b[0m - \u001b[1mFetched the label data from head.\u001b[0m\n",
      "\u001b[32m2023-04-23 18:14:58.772\u001b[0m | \u001b[34m\u001b[1mDEBUG   \u001b[0m | \u001b[36m__main__\u001b[0m:\u001b[36m<module>\u001b[0m:\u001b[36m55\u001b[0m - \u001b[34m\u001b[1mSocket Body data is ready\u001b[0m\n",
      "\u001b[32m2023-04-23 18:14:58.774\u001b[0m | \u001b[1mINFO    \u001b[0m | \u001b[36m__main__\u001b[0m:\u001b[36m<module>\u001b[0m:\u001b[36m57\u001b[0m - \u001b[1mconnected tail to get data on layer data from body 7171: ('127.0.0.1', 49319)\u001b[0m\n",
      "\u001b[32m2023-04-23 18:14:58.779\u001b[0m | \u001b[1mINFO    \u001b[0m | \u001b[36m__main__\u001b[0m:\u001b[36m<module>\u001b[0m:\u001b[36m68\u001b[0m - \u001b[1mFetched the label data from head.\u001b[0m\n",
      "\u001b[32m2023-04-23 18:14:58.865\u001b[0m | \u001b[1mINFO    \u001b[0m | \u001b[36m__main__\u001b[0m:\u001b[36m<module>\u001b[0m:\u001b[36m92\u001b[0m - \u001b[1msent the backprop data from tail to body 8181 torch.Size([4, 8, 112, 112])\u001b[0m\n",
      "\u001b[32m2023-04-23 18:14:58.867\u001b[0m | \u001b[1mINFO    \u001b[0m | \u001b[36m__main__\u001b[0m:\u001b[36m<module>\u001b[0m:\u001b[36m24\u001b[0m - \u001b[1m The read socket has total ready sockets of 0\u001b[0m\n",
      "\u001b[32m2023-04-23 18:14:58.868\u001b[0m | \u001b[34m\u001b[1mDEBUG   \u001b[0m | \u001b[36m__main__\u001b[0m:\u001b[36m<module>\u001b[0m:\u001b[36m30\u001b[0m - \u001b[34m\u001b[1mstarting at position 1\u001b[0m\n"
     ]
    },
    {
     "name": "stdout",
     "output_type": "stream",
     "text": [
      "DS 10 out -> [4, 1, 224, 224]\n"
     ]
    },
    {
     "name": "stderr",
     "output_type": "stream",
     "text": [
      "\u001b[32m2023-04-23 18:15:12.128\u001b[0m | \u001b[34m\u001b[1mDEBUG   \u001b[0m | \u001b[36m__main__\u001b[0m:\u001b[36m<module>\u001b[0m:\u001b[36m36\u001b[0m - \u001b[34m\u001b[1mSocket Y label is ready\u001b[0m\n",
      "\u001b[32m2023-04-23 18:15:12.130\u001b[0m | \u001b[1mINFO    \u001b[0m | \u001b[36m__main__\u001b[0m:\u001b[36m<module>\u001b[0m:\u001b[36m38\u001b[0m - \u001b[1mconnected tail to get data on label from head 6666: ('127.0.0.1', 49329)\u001b[0m\n",
      "\u001b[32m2023-04-23 18:15:12.135\u001b[0m | \u001b[1mINFO    \u001b[0m | \u001b[36m__main__\u001b[0m:\u001b[36m<module>\u001b[0m:\u001b[36m49\u001b[0m - \u001b[1mFetched the label data from head.\u001b[0m\n",
      "\u001b[32m2023-04-23 18:15:20.144\u001b[0m | \u001b[34m\u001b[1mDEBUG   \u001b[0m | \u001b[36m__main__\u001b[0m:\u001b[36m<module>\u001b[0m:\u001b[36m55\u001b[0m - \u001b[34m\u001b[1mSocket Body data is ready\u001b[0m\n",
      "\u001b[32m2023-04-23 18:15:20.146\u001b[0m | \u001b[1mINFO    \u001b[0m | \u001b[36m__main__\u001b[0m:\u001b[36m<module>\u001b[0m:\u001b[36m57\u001b[0m - \u001b[1mconnected tail to get data on layer data from body 7171: ('127.0.0.1', 49333)\u001b[0m\n",
      "\u001b[32m2023-04-23 18:15:20.150\u001b[0m | \u001b[1mINFO    \u001b[0m | \u001b[36m__main__\u001b[0m:\u001b[36m<module>\u001b[0m:\u001b[36m68\u001b[0m - \u001b[1mFetched the label data from head.\u001b[0m\n",
      "\u001b[32m2023-04-23 18:15:20.225\u001b[0m | \u001b[1mINFO    \u001b[0m | \u001b[36m__main__\u001b[0m:\u001b[36m<module>\u001b[0m:\u001b[36m92\u001b[0m - \u001b[1msent the backprop data from tail to body 8181 torch.Size([4, 8, 112, 112])\u001b[0m\n",
      "\u001b[32m2023-04-23 18:15:20.226\u001b[0m | \u001b[1mINFO    \u001b[0m | \u001b[36m__main__\u001b[0m:\u001b[36m<module>\u001b[0m:\u001b[36m24\u001b[0m - \u001b[1m The read socket has total ready sockets of 0\u001b[0m\n",
      "\u001b[32m2023-04-23 18:15:20.227\u001b[0m | \u001b[34m\u001b[1mDEBUG   \u001b[0m | \u001b[36m__main__\u001b[0m:\u001b[36m<module>\u001b[0m:\u001b[36m30\u001b[0m - \u001b[34m\u001b[1mstarting at position 1\u001b[0m\n"
     ]
    },
    {
     "name": "stdout",
     "output_type": "stream",
     "text": [
      "DS 10 out -> [4, 1, 224, 224]\n"
     ]
    },
    {
     "name": "stderr",
     "output_type": "stream",
     "text": [
      "\u001b[32m2023-04-23 18:15:33.644\u001b[0m | \u001b[34m\u001b[1mDEBUG   \u001b[0m | \u001b[36m__main__\u001b[0m:\u001b[36m<module>\u001b[0m:\u001b[36m36\u001b[0m - \u001b[34m\u001b[1mSocket Y label is ready\u001b[0m\n",
      "\u001b[32m2023-04-23 18:15:33.648\u001b[0m | \u001b[1mINFO    \u001b[0m | \u001b[36m__main__\u001b[0m:\u001b[36m<module>\u001b[0m:\u001b[36m38\u001b[0m - \u001b[1mconnected tail to get data on label from head 6666: ('127.0.0.1', 49339)\u001b[0m\n",
      "\u001b[32m2023-04-23 18:15:33.653\u001b[0m | \u001b[1mINFO    \u001b[0m | \u001b[36m__main__\u001b[0m:\u001b[36m<module>\u001b[0m:\u001b[36m49\u001b[0m - \u001b[1mFetched the label data from head.\u001b[0m\n",
      "\u001b[32m2023-04-23 18:15:41.665\u001b[0m | \u001b[34m\u001b[1mDEBUG   \u001b[0m | \u001b[36m__main__\u001b[0m:\u001b[36m<module>\u001b[0m:\u001b[36m55\u001b[0m - \u001b[34m\u001b[1mSocket Body data is ready\u001b[0m\n",
      "\u001b[32m2023-04-23 18:15:41.667\u001b[0m | \u001b[1mINFO    \u001b[0m | \u001b[36m__main__\u001b[0m:\u001b[36m<module>\u001b[0m:\u001b[36m57\u001b[0m - \u001b[1mconnected tail to get data on layer data from body 7171: ('127.0.0.1', 49346)\u001b[0m\n",
      "\u001b[32m2023-04-23 18:15:41.672\u001b[0m | \u001b[1mINFO    \u001b[0m | \u001b[36m__main__\u001b[0m:\u001b[36m<module>\u001b[0m:\u001b[36m68\u001b[0m - \u001b[1mFetched the label data from head.\u001b[0m\n",
      "\u001b[32m2023-04-23 18:15:41.753\u001b[0m | \u001b[1mINFO    \u001b[0m | \u001b[36m__main__\u001b[0m:\u001b[36m<module>\u001b[0m:\u001b[36m92\u001b[0m - \u001b[1msent the backprop data from tail to body 8181 torch.Size([4, 8, 112, 112])\u001b[0m\n",
      "\u001b[32m2023-04-23 18:15:41.754\u001b[0m | \u001b[1mINFO    \u001b[0m | \u001b[36m__main__\u001b[0m:\u001b[36m<module>\u001b[0m:\u001b[36m24\u001b[0m - \u001b[1m The read socket has total ready sockets of 0\u001b[0m\n",
      "\u001b[32m2023-04-23 18:15:41.755\u001b[0m | \u001b[34m\u001b[1mDEBUG   \u001b[0m | \u001b[36m__main__\u001b[0m:\u001b[36m<module>\u001b[0m:\u001b[36m30\u001b[0m - \u001b[34m\u001b[1mstarting at position 1\u001b[0m\n"
     ]
    },
    {
     "name": "stdout",
     "output_type": "stream",
     "text": [
      "DS 10 out -> [4, 1, 224, 224]\n"
     ]
    },
    {
     "name": "stderr",
     "output_type": "stream",
     "text": [
      "\u001b[32m2023-04-23 18:15:55.013\u001b[0m | \u001b[34m\u001b[1mDEBUG   \u001b[0m | \u001b[36m__main__\u001b[0m:\u001b[36m<module>\u001b[0m:\u001b[36m36\u001b[0m - \u001b[34m\u001b[1mSocket Y label is ready\u001b[0m\n",
      "\u001b[32m2023-04-23 18:15:55.016\u001b[0m | \u001b[1mINFO    \u001b[0m | \u001b[36m__main__\u001b[0m:\u001b[36m<module>\u001b[0m:\u001b[36m38\u001b[0m - \u001b[1mconnected tail to get data on label from head 6666: ('127.0.0.1', 49352)\u001b[0m\n",
      "\u001b[32m2023-04-23 18:15:55.021\u001b[0m | \u001b[1mINFO    \u001b[0m | \u001b[36m__main__\u001b[0m:\u001b[36m<module>\u001b[0m:\u001b[36m49\u001b[0m - \u001b[1mFetched the label data from head.\u001b[0m\n",
      "\u001b[32m2023-04-23 18:16:03.022\u001b[0m | \u001b[34m\u001b[1mDEBUG   \u001b[0m | \u001b[36m__main__\u001b[0m:\u001b[36m<module>\u001b[0m:\u001b[36m55\u001b[0m - \u001b[34m\u001b[1mSocket Body data is ready\u001b[0m\n",
      "\u001b[32m2023-04-23 18:16:03.024\u001b[0m | \u001b[1mINFO    \u001b[0m | \u001b[36m__main__\u001b[0m:\u001b[36m<module>\u001b[0m:\u001b[36m57\u001b[0m - \u001b[1mconnected tail to get data on layer data from body 7171: ('127.0.0.1', 49356)\u001b[0m\n",
      "\u001b[32m2023-04-23 18:16:03.028\u001b[0m | \u001b[1mINFO    \u001b[0m | \u001b[36m__main__\u001b[0m:\u001b[36m<module>\u001b[0m:\u001b[36m68\u001b[0m - \u001b[1mFetched the label data from head.\u001b[0m\n",
      "\u001b[32m2023-04-23 18:16:03.107\u001b[0m | \u001b[1mINFO    \u001b[0m | \u001b[36m__main__\u001b[0m:\u001b[36m<module>\u001b[0m:\u001b[36m92\u001b[0m - \u001b[1msent the backprop data from tail to body 8181 torch.Size([4, 8, 112, 112])\u001b[0m\n",
      "\u001b[32m2023-04-23 18:16:03.108\u001b[0m | \u001b[1mINFO    \u001b[0m | \u001b[36m__main__\u001b[0m:\u001b[36m<module>\u001b[0m:\u001b[36m24\u001b[0m - \u001b[1m The read socket has total ready sockets of 0\u001b[0m\n",
      "\u001b[32m2023-04-23 18:16:03.109\u001b[0m | \u001b[34m\u001b[1mDEBUG   \u001b[0m | \u001b[36m__main__\u001b[0m:\u001b[36m<module>\u001b[0m:\u001b[36m30\u001b[0m - \u001b[34m\u001b[1mstarting at position 1\u001b[0m\n"
     ]
    },
    {
     "name": "stdout",
     "output_type": "stream",
     "text": [
      "DS 10 out -> [4, 1, 224, 224]\n"
     ]
    },
    {
     "name": "stderr",
     "output_type": "stream",
     "text": [
      "\u001b[32m2023-04-23 18:16:16.469\u001b[0m | \u001b[34m\u001b[1mDEBUG   \u001b[0m | \u001b[36m__main__\u001b[0m:\u001b[36m<module>\u001b[0m:\u001b[36m36\u001b[0m - \u001b[34m\u001b[1mSocket Y label is ready\u001b[0m\n",
      "\u001b[32m2023-04-23 18:16:16.471\u001b[0m | \u001b[1mINFO    \u001b[0m | \u001b[36m__main__\u001b[0m:\u001b[36m<module>\u001b[0m:\u001b[36m38\u001b[0m - \u001b[1mconnected tail to get data on label from head 6666: ('127.0.0.1', 49367)\u001b[0m\n",
      "\u001b[32m2023-04-23 18:16:16.476\u001b[0m | \u001b[1mINFO    \u001b[0m | \u001b[36m__main__\u001b[0m:\u001b[36m<module>\u001b[0m:\u001b[36m49\u001b[0m - \u001b[1mFetched the label data from head.\u001b[0m\n",
      "\u001b[32m2023-04-23 18:16:24.489\u001b[0m | \u001b[34m\u001b[1mDEBUG   \u001b[0m | \u001b[36m__main__\u001b[0m:\u001b[36m<module>\u001b[0m:\u001b[36m55\u001b[0m - \u001b[34m\u001b[1mSocket Body data is ready\u001b[0m\n",
      "\u001b[32m2023-04-23 18:16:24.492\u001b[0m | \u001b[1mINFO    \u001b[0m | \u001b[36m__main__\u001b[0m:\u001b[36m<module>\u001b[0m:\u001b[36m57\u001b[0m - \u001b[1mconnected tail to get data on layer data from body 7171: ('127.0.0.1', 49368)\u001b[0m\n",
      "\u001b[32m2023-04-23 18:16:24.496\u001b[0m | \u001b[1mINFO    \u001b[0m | \u001b[36m__main__\u001b[0m:\u001b[36m<module>\u001b[0m:\u001b[36m68\u001b[0m - \u001b[1mFetched the label data from head.\u001b[0m\n",
      "\u001b[32m2023-04-23 18:16:24.570\u001b[0m | \u001b[1mINFO    \u001b[0m | \u001b[36m__main__\u001b[0m:\u001b[36m<module>\u001b[0m:\u001b[36m92\u001b[0m - \u001b[1msent the backprop data from tail to body 8181 torch.Size([4, 8, 112, 112])\u001b[0m\n",
      "\u001b[32m2023-04-23 18:16:24.572\u001b[0m | \u001b[1mINFO    \u001b[0m | \u001b[36m__main__\u001b[0m:\u001b[36m<module>\u001b[0m:\u001b[36m24\u001b[0m - \u001b[1m The read socket has total ready sockets of 0\u001b[0m\n",
      "\u001b[32m2023-04-23 18:16:24.573\u001b[0m | \u001b[34m\u001b[1mDEBUG   \u001b[0m | \u001b[36m__main__\u001b[0m:\u001b[36m<module>\u001b[0m:\u001b[36m30\u001b[0m - \u001b[34m\u001b[1mstarting at position 1\u001b[0m\n"
     ]
    },
    {
     "name": "stdout",
     "output_type": "stream",
     "text": [
      "DS 10 out -> [4, 1, 224, 224]\n"
     ]
    },
    {
     "name": "stderr",
     "output_type": "stream",
     "text": [
      "\u001b[32m2023-04-23 18:16:37.831\u001b[0m | \u001b[34m\u001b[1mDEBUG   \u001b[0m | \u001b[36m__main__\u001b[0m:\u001b[36m<module>\u001b[0m:\u001b[36m36\u001b[0m - \u001b[34m\u001b[1mSocket Y label is ready\u001b[0m\n",
      "\u001b[32m2023-04-23 18:16:37.834\u001b[0m | \u001b[1mINFO    \u001b[0m | \u001b[36m__main__\u001b[0m:\u001b[36m<module>\u001b[0m:\u001b[36m38\u001b[0m - \u001b[1mconnected tail to get data on label from head 6666: ('127.0.0.1', 49382)\u001b[0m\n",
      "\u001b[32m2023-04-23 18:16:37.838\u001b[0m | \u001b[1mINFO    \u001b[0m | \u001b[36m__main__\u001b[0m:\u001b[36m<module>\u001b[0m:\u001b[36m49\u001b[0m - \u001b[1mFetched the label data from head.\u001b[0m\n",
      "\u001b[32m2023-04-23 18:16:45.854\u001b[0m | \u001b[34m\u001b[1mDEBUG   \u001b[0m | \u001b[36m__main__\u001b[0m:\u001b[36m<module>\u001b[0m:\u001b[36m55\u001b[0m - \u001b[34m\u001b[1mSocket Body data is ready\u001b[0m\n",
      "\u001b[32m2023-04-23 18:16:45.855\u001b[0m | \u001b[1mINFO    \u001b[0m | \u001b[36m__main__\u001b[0m:\u001b[36m<module>\u001b[0m:\u001b[36m57\u001b[0m - \u001b[1mconnected tail to get data on layer data from body 7171: ('127.0.0.1', 49383)\u001b[0m\n",
      "\u001b[32m2023-04-23 18:16:45.860\u001b[0m | \u001b[1mINFO    \u001b[0m | \u001b[36m__main__\u001b[0m:\u001b[36m<module>\u001b[0m:\u001b[36m68\u001b[0m - \u001b[1mFetched the label data from head.\u001b[0m\n",
      "\u001b[32m2023-04-23 18:16:45.942\u001b[0m | \u001b[1mINFO    \u001b[0m | \u001b[36m__main__\u001b[0m:\u001b[36m<module>\u001b[0m:\u001b[36m92\u001b[0m - \u001b[1msent the backprop data from tail to body 8181 torch.Size([4, 8, 112, 112])\u001b[0m\n",
      "\u001b[32m2023-04-23 18:16:45.943\u001b[0m | \u001b[1mINFO    \u001b[0m | \u001b[36m__main__\u001b[0m:\u001b[36m<module>\u001b[0m:\u001b[36m24\u001b[0m - \u001b[1m The read socket has total ready sockets of 0\u001b[0m\n",
      "\u001b[32m2023-04-23 18:16:45.944\u001b[0m | \u001b[34m\u001b[1mDEBUG   \u001b[0m | \u001b[36m__main__\u001b[0m:\u001b[36m<module>\u001b[0m:\u001b[36m30\u001b[0m - \u001b[34m\u001b[1mstarting at position 1\u001b[0m\n"
     ]
    },
    {
     "name": "stdout",
     "output_type": "stream",
     "text": [
      "DS 10 out -> [4, 1, 224, 224]\n"
     ]
    },
    {
     "name": "stderr",
     "output_type": "stream",
     "text": [
      "\u001b[32m2023-04-23 18:16:59.520\u001b[0m | \u001b[34m\u001b[1mDEBUG   \u001b[0m | \u001b[36m__main__\u001b[0m:\u001b[36m<module>\u001b[0m:\u001b[36m36\u001b[0m - \u001b[34m\u001b[1mSocket Y label is ready\u001b[0m\n",
      "\u001b[32m2023-04-23 18:16:59.523\u001b[0m | \u001b[1mINFO    \u001b[0m | \u001b[36m__main__\u001b[0m:\u001b[36m<module>\u001b[0m:\u001b[36m38\u001b[0m - \u001b[1mconnected tail to get data on label from head 6666: ('127.0.0.1', 49393)\u001b[0m\n",
      "\u001b[32m2023-04-23 18:16:59.527\u001b[0m | \u001b[1mINFO    \u001b[0m | \u001b[36m__main__\u001b[0m:\u001b[36m<module>\u001b[0m:\u001b[36m49\u001b[0m - \u001b[1mFetched the label data from head.\u001b[0m\n",
      "\u001b[32m2023-04-23 18:17:07.538\u001b[0m | \u001b[34m\u001b[1mDEBUG   \u001b[0m | \u001b[36m__main__\u001b[0m:\u001b[36m<module>\u001b[0m:\u001b[36m55\u001b[0m - \u001b[34m\u001b[1mSocket Body data is ready\u001b[0m\n",
      "\u001b[32m2023-04-23 18:17:07.540\u001b[0m | \u001b[1mINFO    \u001b[0m | \u001b[36m__main__\u001b[0m:\u001b[36m<module>\u001b[0m:\u001b[36m57\u001b[0m - \u001b[1mconnected tail to get data on layer data from body 7171: ('127.0.0.1', 49402)\u001b[0m\n",
      "\u001b[32m2023-04-23 18:17:07.545\u001b[0m | \u001b[1mINFO    \u001b[0m | \u001b[36m__main__\u001b[0m:\u001b[36m<module>\u001b[0m:\u001b[36m68\u001b[0m - \u001b[1mFetched the label data from head.\u001b[0m\n",
      "\u001b[32m2023-04-23 18:17:07.627\u001b[0m | \u001b[1mINFO    \u001b[0m | \u001b[36m__main__\u001b[0m:\u001b[36m<module>\u001b[0m:\u001b[36m92\u001b[0m - \u001b[1msent the backprop data from tail to body 8181 torch.Size([4, 8, 112, 112])\u001b[0m\n",
      "\u001b[32m2023-04-23 18:17:07.628\u001b[0m | \u001b[1mINFO    \u001b[0m | \u001b[36m__main__\u001b[0m:\u001b[36m<module>\u001b[0m:\u001b[36m24\u001b[0m - \u001b[1m The read socket has total ready sockets of 0\u001b[0m\n",
      "\u001b[32m2023-04-23 18:17:07.629\u001b[0m | \u001b[34m\u001b[1mDEBUG   \u001b[0m | \u001b[36m__main__\u001b[0m:\u001b[36m<module>\u001b[0m:\u001b[36m30\u001b[0m - \u001b[34m\u001b[1mstarting at position 1\u001b[0m\n"
     ]
    },
    {
     "name": "stdout",
     "output_type": "stream",
     "text": [
      "DS 10 out -> [4, 1, 224, 224]\n"
     ]
    },
    {
     "name": "stderr",
     "output_type": "stream",
     "text": [
      "\u001b[32m2023-04-23 18:17:20.719\u001b[0m | \u001b[34m\u001b[1mDEBUG   \u001b[0m | \u001b[36m__main__\u001b[0m:\u001b[36m<module>\u001b[0m:\u001b[36m36\u001b[0m - \u001b[34m\u001b[1mSocket Y label is ready\u001b[0m\n",
      "\u001b[32m2023-04-23 18:17:20.722\u001b[0m | \u001b[1mINFO    \u001b[0m | \u001b[36m__main__\u001b[0m:\u001b[36m<module>\u001b[0m:\u001b[36m38\u001b[0m - \u001b[1mconnected tail to get data on label from head 6666: ('127.0.0.1', 49678)\u001b[0m\n",
      "\u001b[32m2023-04-23 18:17:20.726\u001b[0m | \u001b[1mINFO    \u001b[0m | \u001b[36m__main__\u001b[0m:\u001b[36m<module>\u001b[0m:\u001b[36m49\u001b[0m - \u001b[1mFetched the label data from head.\u001b[0m\n",
      "\u001b[32m2023-04-23 18:17:28.739\u001b[0m | \u001b[34m\u001b[1mDEBUG   \u001b[0m | \u001b[36m__main__\u001b[0m:\u001b[36m<module>\u001b[0m:\u001b[36m55\u001b[0m - \u001b[34m\u001b[1mSocket Body data is ready\u001b[0m\n",
      "\u001b[32m2023-04-23 18:17:28.741\u001b[0m | \u001b[1mINFO    \u001b[0m | \u001b[36m__main__\u001b[0m:\u001b[36m<module>\u001b[0m:\u001b[36m57\u001b[0m - \u001b[1mconnected tail to get data on layer data from body 7171: ('127.0.0.1', 49683)\u001b[0m\n",
      "\u001b[32m2023-04-23 18:17:28.745\u001b[0m | \u001b[1mINFO    \u001b[0m | \u001b[36m__main__\u001b[0m:\u001b[36m<module>\u001b[0m:\u001b[36m68\u001b[0m - \u001b[1mFetched the label data from head.\u001b[0m\n",
      "\u001b[32m2023-04-23 18:17:28.823\u001b[0m | \u001b[1mINFO    \u001b[0m | \u001b[36m__main__\u001b[0m:\u001b[36m<module>\u001b[0m:\u001b[36m92\u001b[0m - \u001b[1msent the backprop data from tail to body 8181 torch.Size([4, 8, 112, 112])\u001b[0m\n",
      "\u001b[32m2023-04-23 18:17:28.825\u001b[0m | \u001b[1mINFO    \u001b[0m | \u001b[36m__main__\u001b[0m:\u001b[36m<module>\u001b[0m:\u001b[36m24\u001b[0m - \u001b[1m The read socket has total ready sockets of 0\u001b[0m\n",
      "\u001b[32m2023-04-23 18:17:28.826\u001b[0m | \u001b[34m\u001b[1mDEBUG   \u001b[0m | \u001b[36m__main__\u001b[0m:\u001b[36m<module>\u001b[0m:\u001b[36m30\u001b[0m - \u001b[34m\u001b[1mstarting at position 1\u001b[0m\n"
     ]
    },
    {
     "name": "stdout",
     "output_type": "stream",
     "text": [
      "DS 10 out -> [4, 1, 224, 224]\n"
     ]
    },
    {
     "name": "stderr",
     "output_type": "stream",
     "text": [
      "\u001b[32m2023-04-23 18:17:43.785\u001b[0m | \u001b[34m\u001b[1mDEBUG   \u001b[0m | \u001b[36m__main__\u001b[0m:\u001b[36m<module>\u001b[0m:\u001b[36m36\u001b[0m - \u001b[34m\u001b[1mSocket Y label is ready\u001b[0m\n",
      "\u001b[32m2023-04-23 18:17:43.788\u001b[0m | \u001b[1mINFO    \u001b[0m | \u001b[36m__main__\u001b[0m:\u001b[36m<module>\u001b[0m:\u001b[36m38\u001b[0m - \u001b[1mconnected tail to get data on label from head 6666: ('127.0.0.1', 49701)\u001b[0m\n",
      "\u001b[32m2023-04-23 18:17:43.792\u001b[0m | \u001b[1mINFO    \u001b[0m | \u001b[36m__main__\u001b[0m:\u001b[36m<module>\u001b[0m:\u001b[36m49\u001b[0m - \u001b[1mFetched the label data from head.\u001b[0m\n",
      "\u001b[32m2023-04-23 18:17:51.793\u001b[0m | \u001b[34m\u001b[1mDEBUG   \u001b[0m | \u001b[36m__main__\u001b[0m:\u001b[36m<module>\u001b[0m:\u001b[36m55\u001b[0m - \u001b[34m\u001b[1mSocket Body data is ready\u001b[0m\n",
      "\u001b[32m2023-04-23 18:17:51.797\u001b[0m | \u001b[1mINFO    \u001b[0m | \u001b[36m__main__\u001b[0m:\u001b[36m<module>\u001b[0m:\u001b[36m57\u001b[0m - \u001b[1mconnected tail to get data on layer data from body 7171: ('127.0.0.1', 49709)\u001b[0m\n",
      "\u001b[32m2023-04-23 18:17:51.806\u001b[0m | \u001b[1mINFO    \u001b[0m | \u001b[36m__main__\u001b[0m:\u001b[36m<module>\u001b[0m:\u001b[36m68\u001b[0m - \u001b[1mFetched the label data from head.\u001b[0m\n",
      "\u001b[32m2023-04-23 18:17:51.897\u001b[0m | \u001b[1mINFO    \u001b[0m | \u001b[36m__main__\u001b[0m:\u001b[36m<module>\u001b[0m:\u001b[36m92\u001b[0m - \u001b[1msent the backprop data from tail to body 8181 torch.Size([4, 8, 112, 112])\u001b[0m\n",
      "\u001b[32m2023-04-23 18:17:51.899\u001b[0m | \u001b[1mINFO    \u001b[0m | \u001b[36m__main__\u001b[0m:\u001b[36m<module>\u001b[0m:\u001b[36m24\u001b[0m - \u001b[1m The read socket has total ready sockets of 0\u001b[0m\n",
      "\u001b[32m2023-04-23 18:17:51.900\u001b[0m | \u001b[34m\u001b[1mDEBUG   \u001b[0m | \u001b[36m__main__\u001b[0m:\u001b[36m<module>\u001b[0m:\u001b[36m30\u001b[0m - \u001b[34m\u001b[1mstarting at position 1\u001b[0m\n"
     ]
    },
    {
     "name": "stdout",
     "output_type": "stream",
     "text": [
      "DS 10 out -> [4, 1, 224, 224]\n"
     ]
    },
    {
     "name": "stderr",
     "output_type": "stream",
     "text": [
      "\u001b[32m2023-04-23 18:18:06.909\u001b[0m | \u001b[34m\u001b[1mDEBUG   \u001b[0m | \u001b[36m__main__\u001b[0m:\u001b[36m<module>\u001b[0m:\u001b[36m36\u001b[0m - \u001b[34m\u001b[1mSocket Y label is ready\u001b[0m\n",
      "\u001b[32m2023-04-23 18:18:06.918\u001b[0m | \u001b[1mINFO    \u001b[0m | \u001b[36m__main__\u001b[0m:\u001b[36m<module>\u001b[0m:\u001b[36m38\u001b[0m - \u001b[1mconnected tail to get data on label from head 6666: ('127.0.0.1', 49828)\u001b[0m\n",
      "\u001b[32m2023-04-23 18:18:06.922\u001b[0m | \u001b[1mINFO    \u001b[0m | \u001b[36m__main__\u001b[0m:\u001b[36m<module>\u001b[0m:\u001b[36m49\u001b[0m - \u001b[1mFetched the label data from head.\u001b[0m\n",
      "\u001b[32m2023-04-23 18:18:14.936\u001b[0m | \u001b[34m\u001b[1mDEBUG   \u001b[0m | \u001b[36m__main__\u001b[0m:\u001b[36m<module>\u001b[0m:\u001b[36m55\u001b[0m - \u001b[34m\u001b[1mSocket Body data is ready\u001b[0m\n",
      "\u001b[32m2023-04-23 18:18:14.939\u001b[0m | \u001b[1mINFO    \u001b[0m | \u001b[36m__main__\u001b[0m:\u001b[36m<module>\u001b[0m:\u001b[36m57\u001b[0m - \u001b[1mconnected tail to get data on layer data from body 7171: ('127.0.0.1', 49831)\u001b[0m\n",
      "\u001b[32m2023-04-23 18:18:14.944\u001b[0m | \u001b[1mINFO    \u001b[0m | \u001b[36m__main__\u001b[0m:\u001b[36m<module>\u001b[0m:\u001b[36m68\u001b[0m - \u001b[1mFetched the label data from head.\u001b[0m\n",
      "\u001b[32m2023-04-23 18:18:15.014\u001b[0m | \u001b[1mINFO    \u001b[0m | \u001b[36m__main__\u001b[0m:\u001b[36m<module>\u001b[0m:\u001b[36m92\u001b[0m - \u001b[1msent the backprop data from tail to body 8181 torch.Size([4, 8, 112, 112])\u001b[0m\n",
      "\u001b[32m2023-04-23 18:18:15.014\u001b[0m | \u001b[1mINFO    \u001b[0m | \u001b[36m__main__\u001b[0m:\u001b[36m<module>\u001b[0m:\u001b[36m24\u001b[0m - \u001b[1m The read socket has total ready sockets of 0\u001b[0m\n",
      "\u001b[32m2023-04-23 18:18:15.014\u001b[0m | \u001b[34m\u001b[1mDEBUG   \u001b[0m | \u001b[36m__main__\u001b[0m:\u001b[36m<module>\u001b[0m:\u001b[36m30\u001b[0m - \u001b[34m\u001b[1mstarting at position 1\u001b[0m\n"
     ]
    },
    {
     "name": "stdout",
     "output_type": "stream",
     "text": [
      "DS 10 out -> [4, 1, 224, 224]\n"
     ]
    },
    {
     "name": "stderr",
     "output_type": "stream",
     "text": [
      "\u001b[32m2023-04-23 18:18:28.818\u001b[0m | \u001b[34m\u001b[1mDEBUG   \u001b[0m | \u001b[36m__main__\u001b[0m:\u001b[36m<module>\u001b[0m:\u001b[36m36\u001b[0m - \u001b[34m\u001b[1mSocket Y label is ready\u001b[0m\n",
      "\u001b[32m2023-04-23 18:18:28.822\u001b[0m | \u001b[1mINFO    \u001b[0m | \u001b[36m__main__\u001b[0m:\u001b[36m<module>\u001b[0m:\u001b[36m38\u001b[0m - \u001b[1mconnected tail to get data on label from head 6666: ('127.0.0.1', 49855)\u001b[0m\n",
      "\u001b[32m2023-04-23 18:18:28.827\u001b[0m | \u001b[1mINFO    \u001b[0m | \u001b[36m__main__\u001b[0m:\u001b[36m<module>\u001b[0m:\u001b[36m49\u001b[0m - \u001b[1mFetched the label data from head.\u001b[0m\n",
      "\u001b[32m2023-04-23 18:18:36.838\u001b[0m | \u001b[34m\u001b[1mDEBUG   \u001b[0m | \u001b[36m__main__\u001b[0m:\u001b[36m<module>\u001b[0m:\u001b[36m55\u001b[0m - \u001b[34m\u001b[1mSocket Body data is ready\u001b[0m\n",
      "\u001b[32m2023-04-23 18:18:36.838\u001b[0m | \u001b[1mINFO    \u001b[0m | \u001b[36m__main__\u001b[0m:\u001b[36m<module>\u001b[0m:\u001b[36m57\u001b[0m - \u001b[1mconnected tail to get data on layer data from body 7171: ('127.0.0.1', 49860)\u001b[0m\n",
      "\u001b[32m2023-04-23 18:18:36.844\u001b[0m | \u001b[1mINFO    \u001b[0m | \u001b[36m__main__\u001b[0m:\u001b[36m<module>\u001b[0m:\u001b[36m68\u001b[0m - \u001b[1mFetched the label data from head.\u001b[0m\n",
      "\u001b[32m2023-04-23 18:18:36.906\u001b[0m | \u001b[1mINFO    \u001b[0m | \u001b[36m__main__\u001b[0m:\u001b[36m<module>\u001b[0m:\u001b[36m92\u001b[0m - \u001b[1msent the backprop data from tail to body 8181 torch.Size([4, 8, 112, 112])\u001b[0m\n",
      "\u001b[32m2023-04-23 18:18:36.906\u001b[0m | \u001b[1mINFO    \u001b[0m | \u001b[36m__main__\u001b[0m:\u001b[36m<module>\u001b[0m:\u001b[36m24\u001b[0m - \u001b[1m The read socket has total ready sockets of 0\u001b[0m\n",
      "\u001b[32m2023-04-23 18:18:36.922\u001b[0m | \u001b[34m\u001b[1mDEBUG   \u001b[0m | \u001b[36m__main__\u001b[0m:\u001b[36m<module>\u001b[0m:\u001b[36m30\u001b[0m - \u001b[34m\u001b[1mstarting at position 1\u001b[0m\n"
     ]
    },
    {
     "name": "stdout",
     "output_type": "stream",
     "text": [
      "DS 10 out -> [4, 1, 224, 224]\n"
     ]
    },
    {
     "name": "stderr",
     "output_type": "stream",
     "text": [
      "\u001b[32m2023-04-23 18:18:50.504\u001b[0m | \u001b[34m\u001b[1mDEBUG   \u001b[0m | \u001b[36m__main__\u001b[0m:\u001b[36m<module>\u001b[0m:\u001b[36m36\u001b[0m - \u001b[34m\u001b[1mSocket Y label is ready\u001b[0m\n",
      "\u001b[32m2023-04-23 18:18:50.507\u001b[0m | \u001b[1mINFO    \u001b[0m | \u001b[36m__main__\u001b[0m:\u001b[36m<module>\u001b[0m:\u001b[36m38\u001b[0m - \u001b[1mconnected tail to get data on label from head 6666: ('127.0.0.1', 49883)\u001b[0m\n",
      "\u001b[32m2023-04-23 18:18:50.511\u001b[0m | \u001b[1mINFO    \u001b[0m | \u001b[36m__main__\u001b[0m:\u001b[36m<module>\u001b[0m:\u001b[36m49\u001b[0m - \u001b[1mFetched the label data from head.\u001b[0m\n",
      "\u001b[32m2023-04-23 18:18:58.523\u001b[0m | \u001b[34m\u001b[1mDEBUG   \u001b[0m | \u001b[36m__main__\u001b[0m:\u001b[36m<module>\u001b[0m:\u001b[36m55\u001b[0m - \u001b[34m\u001b[1mSocket Body data is ready\u001b[0m\n",
      "\u001b[32m2023-04-23 18:18:58.525\u001b[0m | \u001b[1mINFO    \u001b[0m | \u001b[36m__main__\u001b[0m:\u001b[36m<module>\u001b[0m:\u001b[36m57\u001b[0m - \u001b[1mconnected tail to get data on layer data from body 7171: ('127.0.0.1', 49888)\u001b[0m\n",
      "\u001b[32m2023-04-23 18:18:58.525\u001b[0m | \u001b[1mINFO    \u001b[0m | \u001b[36m__main__\u001b[0m:\u001b[36m<module>\u001b[0m:\u001b[36m68\u001b[0m - \u001b[1mFetched the label data from head.\u001b[0m\n",
      "\u001b[32m2023-04-23 18:18:58.610\u001b[0m | \u001b[1mINFO    \u001b[0m | \u001b[36m__main__\u001b[0m:\u001b[36m<module>\u001b[0m:\u001b[36m92\u001b[0m - \u001b[1msent the backprop data from tail to body 8181 torch.Size([4, 8, 112, 112])\u001b[0m\n",
      "\u001b[32m2023-04-23 18:18:58.611\u001b[0m | \u001b[1mINFO    \u001b[0m | \u001b[36m__main__\u001b[0m:\u001b[36m<module>\u001b[0m:\u001b[36m24\u001b[0m - \u001b[1m The read socket has total ready sockets of 0\u001b[0m\n",
      "\u001b[32m2023-04-23 18:18:58.611\u001b[0m | \u001b[34m\u001b[1mDEBUG   \u001b[0m | \u001b[36m__main__\u001b[0m:\u001b[36m<module>\u001b[0m:\u001b[36m30\u001b[0m - \u001b[34m\u001b[1mstarting at position 1\u001b[0m\n"
     ]
    },
    {
     "name": "stdout",
     "output_type": "stream",
     "text": [
      "DS 10 out -> [4, 1, 224, 224]\n"
     ]
    },
    {
     "name": "stderr",
     "output_type": "stream",
     "text": [
      "\u001b[32m2023-04-23 18:19:12.928\u001b[0m | \u001b[34m\u001b[1mDEBUG   \u001b[0m | \u001b[36m__main__\u001b[0m:\u001b[36m<module>\u001b[0m:\u001b[36m36\u001b[0m - \u001b[34m\u001b[1mSocket Y label is ready\u001b[0m\n",
      "\u001b[32m2023-04-23 18:19:12.930\u001b[0m | \u001b[1mINFO    \u001b[0m | \u001b[36m__main__\u001b[0m:\u001b[36m<module>\u001b[0m:\u001b[36m38\u001b[0m - \u001b[1mconnected tail to get data on label from head 6666: ('127.0.0.1', 49987)\u001b[0m\n",
      "\u001b[32m2023-04-23 18:19:12.934\u001b[0m | \u001b[1mINFO    \u001b[0m | \u001b[36m__main__\u001b[0m:\u001b[36m<module>\u001b[0m:\u001b[36m49\u001b[0m - \u001b[1mFetched the label data from head.\u001b[0m\n",
      "\u001b[32m2023-04-23 18:19:20.937\u001b[0m | \u001b[34m\u001b[1mDEBUG   \u001b[0m | \u001b[36m__main__\u001b[0m:\u001b[36m<module>\u001b[0m:\u001b[36m55\u001b[0m - \u001b[34m\u001b[1mSocket Body data is ready\u001b[0m\n",
      "\u001b[32m2023-04-23 18:19:20.938\u001b[0m | \u001b[1mINFO    \u001b[0m | \u001b[36m__main__\u001b[0m:\u001b[36m<module>\u001b[0m:\u001b[36m57\u001b[0m - \u001b[1mconnected tail to get data on layer data from body 7171: ('127.0.0.1', 49995)\u001b[0m\n",
      "\u001b[32m2023-04-23 18:19:20.938\u001b[0m | \u001b[1mINFO    \u001b[0m | \u001b[36m__main__\u001b[0m:\u001b[36m<module>\u001b[0m:\u001b[36m68\u001b[0m - \u001b[1mFetched the label data from head.\u001b[0m\n",
      "\u001b[32m2023-04-23 18:19:21.022\u001b[0m | \u001b[1mINFO    \u001b[0m | \u001b[36m__main__\u001b[0m:\u001b[36m<module>\u001b[0m:\u001b[36m92\u001b[0m - \u001b[1msent the backprop data from tail to body 8181 torch.Size([4, 8, 112, 112])\u001b[0m\n",
      "\u001b[32m2023-04-23 18:19:21.022\u001b[0m | \u001b[1mINFO    \u001b[0m | \u001b[36m__main__\u001b[0m:\u001b[36m<module>\u001b[0m:\u001b[36m24\u001b[0m - \u001b[1m The read socket has total ready sockets of 0\u001b[0m\n",
      "\u001b[32m2023-04-23 18:19:21.022\u001b[0m | \u001b[34m\u001b[1mDEBUG   \u001b[0m | \u001b[36m__main__\u001b[0m:\u001b[36m<module>\u001b[0m:\u001b[36m30\u001b[0m - \u001b[34m\u001b[1mstarting at position 1\u001b[0m\n"
     ]
    },
    {
     "name": "stdout",
     "output_type": "stream",
     "text": [
      "DS 10 out -> [4, 1, 224, 224]\n"
     ]
    },
    {
     "name": "stderr",
     "output_type": "stream",
     "text": [
      "\u001b[32m2023-04-23 18:19:34.378\u001b[0m | \u001b[34m\u001b[1mDEBUG   \u001b[0m | \u001b[36m__main__\u001b[0m:\u001b[36m<module>\u001b[0m:\u001b[36m36\u001b[0m - \u001b[34m\u001b[1mSocket Y label is ready\u001b[0m\n",
      "\u001b[32m2023-04-23 18:19:34.379\u001b[0m | \u001b[1mINFO    \u001b[0m | \u001b[36m__main__\u001b[0m:\u001b[36m<module>\u001b[0m:\u001b[36m38\u001b[0m - \u001b[1mconnected tail to get data on label from head 6666: ('127.0.0.1', 50179)\u001b[0m\n",
      "\u001b[32m2023-04-23 18:19:34.382\u001b[0m | \u001b[1mINFO    \u001b[0m | \u001b[36m__main__\u001b[0m:\u001b[36m<module>\u001b[0m:\u001b[36m49\u001b[0m - \u001b[1mFetched the label data from head.\u001b[0m\n",
      "\u001b[32m2023-04-23 18:19:42.392\u001b[0m | \u001b[34m\u001b[1mDEBUG   \u001b[0m | \u001b[36m__main__\u001b[0m:\u001b[36m<module>\u001b[0m:\u001b[36m55\u001b[0m - \u001b[34m\u001b[1mSocket Body data is ready\u001b[0m\n",
      "\u001b[32m2023-04-23 18:19:42.392\u001b[0m | \u001b[1mINFO    \u001b[0m | \u001b[36m__main__\u001b[0m:\u001b[36m<module>\u001b[0m:\u001b[36m57\u001b[0m - \u001b[1mconnected tail to get data on layer data from body 7171: ('127.0.0.1', 50183)\u001b[0m\n",
      "\u001b[32m2023-04-23 18:19:42.400\u001b[0m | \u001b[1mINFO    \u001b[0m | \u001b[36m__main__\u001b[0m:\u001b[36m<module>\u001b[0m:\u001b[36m68\u001b[0m - \u001b[1mFetched the label data from head.\u001b[0m\n",
      "\u001b[32m2023-04-23 18:19:42.472\u001b[0m | \u001b[1mINFO    \u001b[0m | \u001b[36m__main__\u001b[0m:\u001b[36m<module>\u001b[0m:\u001b[36m92\u001b[0m - \u001b[1msent the backprop data from tail to body 8181 torch.Size([4, 8, 112, 112])\u001b[0m\n",
      "\u001b[32m2023-04-23 18:19:42.475\u001b[0m | \u001b[1mINFO    \u001b[0m | \u001b[36m__main__\u001b[0m:\u001b[36m<module>\u001b[0m:\u001b[36m24\u001b[0m - \u001b[1m The read socket has total ready sockets of 0\u001b[0m\n",
      "\u001b[32m2023-04-23 18:19:42.475\u001b[0m | \u001b[34m\u001b[1mDEBUG   \u001b[0m | \u001b[36m__main__\u001b[0m:\u001b[36m<module>\u001b[0m:\u001b[36m30\u001b[0m - \u001b[34m\u001b[1mstarting at position 1\u001b[0m\n"
     ]
    },
    {
     "name": "stdout",
     "output_type": "stream",
     "text": [
      "DS 10 out -> [4, 1, 224, 224]\n"
     ]
    }
   ],
   "source": [
    "# Forward propagation in Tail model\n",
    "\n",
    "model_tail.train()\n",
    "\n",
    "\n",
    "model_tail.train()\n",
    "train_loss_list = []\n",
    "grads_dict = {}\n",
    "abs_grads_dict = {}\n",
    "\n",
    "\n",
    "try:\n",
    "    while True:\n",
    "        \n",
    "        # wait until either socket is ready to read\n",
    "        recv_head_y.listen()\n",
    "        recv_body_f.listen()\n",
    "\n",
    "        sockets = [recv_head_y, recv_body_f]\n",
    "\n",
    "        read_sockets = []\n",
    "        sockets_ready = 0\n",
    "        \n",
    "        logger.info(f\" The read socket has total ready sockets of {len(read_sockets)}\")\n",
    "\n",
    "        label_data = None\n",
    "        layer_data = None\n",
    "        try:\n",
    "            while (label_data is None and layer_data is None):\n",
    "                logger.debug(f\"starting at position {sockets_ready+1}\")\n",
    "                \n",
    "\n",
    "                read_socket_head, _, _ = select.select([recv_head_y], [], [])\n",
    "\n",
    "                if read_socket_head:\n",
    "                    logger.debug(\"Socket Y label is ready\")\n",
    "                    conn, addr = recv_head_y.accept()\n",
    "                    logger.info(f\"connected tail to get data on label from head 6666: {addr}\")\n",
    "\n",
    "                    label_data_file = conn.recv(1024)\n",
    "\n",
    "                    if len(label_data_file) == 0:\n",
    "                        logger.error(\"Label data not available\")\n",
    "                        break\n",
    "\n",
    "                    with h5py.File(label_data_file, 'r') as head_label:\n",
    "                        label_data = torch.tensor(head_label['head_to_tail'][:]).to(device)\n",
    "                    \n",
    "                    logger.info(\"Fetched the label data from head.\")\n",
    "\n",
    "                time.sleep(8)\n",
    "                read_socket_body, _, _ = select.select([recv_body_f], [], [])\n",
    "\n",
    "                if read_socket_body:\n",
    "                    logger.debug(\"Socket Body data is ready\")\n",
    "                    conn, addr = recv_body_f.accept()\n",
    "                    logger.info(f\"connected tail to get data on layer data from body 7171: {addr}\")\n",
    "\n",
    "                    body_data_file = conn.recv(1024)\n",
    "\n",
    "                    if len(body_data_file) == 0:\n",
    "                        logger.error(\"Layer data not available\")\n",
    "                        break\n",
    "\n",
    "                    with h5py.File(body_data_file, 'r') as body_fwd:\n",
    "                        layer_data = torch.tensor(body_fwd['skip9'][:], requires_grad=True).to(device)\n",
    "                    \n",
    "                    logger.info(\"Fetched the label data from head.\")\n",
    "                \n",
    "                sockets_ready += 1\n",
    "                \n",
    "            \n",
    "                \n",
    "            optimizer_tail.zero_grad()\n",
    "                                                                                                                                    \n",
    "            tl_output_data = model_tail(# skip_7, skip_8, \n",
    "                layer_data\n",
    "                )\n",
    "            \n",
    "            loss = loss_fn(tl_output_data, label_data)\n",
    "            train_loss_list.append(loss)\n",
    "            loss.backward()\n",
    "            optimizer_tail.step()\n",
    "\n",
    "            skip_9_grad = layer_data.grad\n",
    "\n",
    "            with h5py.File('params_and_grads/tail_back_prop.hdf5', 'w') as tail_bkp:\n",
    "                tail_bkp.create_dataset(\"skip_9_grad\",  data=skip_9_grad.cpu().detach().numpy())\n",
    "\n",
    "                send_socket_info(8181, 'params_and_grads/tail_back_prop.hdf5')\n",
    "\n",
    "            logger.info(f\"sent the backprop data from tail to body 8181 {skip_9_grad.shape}\")\n",
    "        except ConnectionResetError:\n",
    "            logger.error(f\"Connection error issue\")\n",
    "\n",
    "except Exception as ex:\n",
    "    import traceback\n",
    "    print(\"+=\" * 25)\n",
    "    print(\"Error encountered as :\", ex)\n",
    "    print(\"+=\" * 25)\n",
    "    traceback.print_exc()\n",
    "\n",
    "finally:\n",
    "    pass\n"
   ]
  }
 ],
 "metadata": {
  "kernelspec": {
   "display_name": "base",
   "language": "python",
   "name": "python3"
  },
  "language_info": {
   "codemirror_mode": {
    "name": "ipython",
    "version": 3
   },
   "file_extension": ".py",
   "mimetype": "text/x-python",
   "name": "python",
   "nbconvert_exporter": "python",
   "pygments_lexer": "ipython3",
   "version": "3.9.13"
  },
  "orig_nbformat": 4
 },
 "nbformat": 4,
 "nbformat_minor": 2
}
